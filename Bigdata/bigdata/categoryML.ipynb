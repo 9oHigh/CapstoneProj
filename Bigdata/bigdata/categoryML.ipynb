{
  "nbformat": 4,
  "nbformat_minor": 0,
  "metadata": {
    "colab": {
      "name": "categoryML.ipynb",
      "provenance": [],
      "collapsed_sections": [
        "QGmVjrvBe3Qe",
        "ry-mBcfAUwa5",
        "IgIuVwJNV4i8",
        "TPOEzG6jV8vO",
        "xIF976YUPCcy",
        "1c4CSOZArJcq",
        "qA3qk-zntw7G",
        "J2CDeY-ut53e",
        "9FKLoCeolmCR"
      ]
    },
    "kernelspec": {
      "display_name": "Python 3",
      "name": "python3"
    },
    "language_info": {
      "name": "python"
    }
  },
  "cells": [
    {
      "cell_type": "code",
      "metadata": {
        "id": "8POd1j25QNNq"
      },
      "source": [
        "from google.colab import files\n",
        "import pandas as pd\n",
        "import numpy as np\n",
        "import io\n",
        "import os\n",
        "import sklearn # 머신러닝\n",
        "from sklearn.metrics.pairwise import cosine_similarity\n",
        "from scipy.sparse import csr_matrix\n",
        "import scipy\n",
        "\n",
        "# 맥os의 경우 시도때도없이 다운되서 아래와 같이 넣어준다.\n",
        "os.environ['KMP_DUPLICATE_LIB_OK']='True'"
      ],
      "execution_count": 1,
      "outputs": []
    },
    {
      "cell_type": "markdown",
      "metadata": {
        "id": "QGmVjrvBe3Qe"
      },
      "source": [
        "#**메인**"
      ]
    },
    {
      "cell_type": "code",
      "metadata": {
        "colab": {
          "resources": {
            "http://localhost:8080/nbextensions/google.colab/files.js": {
              "data": "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",
              "ok": true,
              "headers": [
                [
                  "content-type",
                  "application/javascript"
                ]
              ],
              "status": 200,
              "status_text": ""
            }
          },
          "base_uri": "https://localhost:8080/",
          "height": 129
        },
        "id": "zSs_4AoqS7nV",
        "outputId": "01bca042-6c31-446b-9ea1-a98c899fac04"
      },
      "source": [
        "#파일업로드\n",
        "myFirstDf = files.upload()\n",
        "mySecondDf = files.upload()"
      ],
      "execution_count": null,
      "outputs": [
        {
          "output_type": "display_data",
          "data": {
            "text/html": [
              "\n",
              "     <input type=\"file\" id=\"files-4600a146-b064-471b-b807-16a2ca4b2dd2\" name=\"files[]\" multiple disabled\n",
              "        style=\"border:none\" />\n",
              "     <output id=\"result-4600a146-b064-471b-b807-16a2ca4b2dd2\">\n",
              "      Upload widget is only available when the cell has been executed in the\n",
              "      current browser session. Please rerun this cell to enable.\n",
              "      </output>\n",
              "      <script src=\"/nbextensions/google.colab/files.js\"></script> "
            ],
            "text/plain": [
              "<IPython.core.display.HTML object>"
            ]
          },
          "metadata": {}
        },
        {
          "output_type": "stream",
          "name": "stdout",
          "text": [
            "Saving first.csv to first.csv\n"
          ]
        },
        {
          "output_type": "display_data",
          "data": {
            "text/html": [
              "\n",
              "     <input type=\"file\" id=\"files-691e861a-7bc3-45c0-9a6e-79925613d070\" name=\"files[]\" multiple disabled\n",
              "        style=\"border:none\" />\n",
              "     <output id=\"result-691e861a-7bc3-45c0-9a6e-79925613d070\">\n",
              "      Upload widget is only available when the cell has been executed in the\n",
              "      current browser session. Please rerun this cell to enable.\n",
              "      </output>\n",
              "      <script src=\"/nbextensions/google.colab/files.js\"></script> "
            ],
            "text/plain": [
              "<IPython.core.display.HTML object>"
            ]
          },
          "metadata": {}
        },
        {
          "output_type": "stream",
          "name": "stdout",
          "text": [
            "Saving third.csv to third.csv\n"
          ]
        }
      ]
    },
    {
      "cell_type": "code",
      "metadata": {
        "id": "NqjCkiMrXE-1"
      },
      "source": [
        "#데이터프레임으로 변경\n",
        "recipeData = pd.read_csv(io.BytesIO(myFirstDf['first.csv']),encoding='cp949')\n",
        "userData = pd.read_csv(io.BytesIO(mySecondDf['third.csv']),encoding='cp949')"
      ],
      "execution_count": null,
      "outputs": []
    },
    {
      "cell_type": "code",
      "metadata": {
        "id": "k1ic0z7LPS8x"
      },
      "source": [
        "# newDataFrame = pd.merge(recipeData,userData,on='rId')\n",
        "# newDataFrame = newDataFrame.drop_duplicates(['menu_img','recipe_source','recipe_title','serving','coockingTime','difficult','nick'], keep= 'first')\n",
        "\n",
        "# #recipeData 분리\n",
        "# recipeData = newDataFrame[['rId','recipe_title','serving','coockingTime','difficult','recipe_source','menu_img','recipe_category']]\n",
        "\n",
        "# #userData 분리\n",
        "# userData = newDataFrame[['rId','nick','created_day','grade']]"
      ],
      "execution_count": null,
      "outputs": []
    },
    {
      "cell_type": "code",
      "metadata": {
        "id": "AYx-S9DTPxME"
      },
      "source": [
        "# #csv파일로 저장시 '-'로인한 오류발생 -> 제거\n",
        "userData['nick'] = userData['nick'].str.replace(\"-\",\"\")"
      ],
      "execution_count": null,
      "outputs": []
    },
    {
      "cell_type": "code",
      "metadata": {
        "id": "wvttnB2uliRY"
      },
      "source": [
        "# 필요없는 column 제거\n",
        "# recipeData = recipeData.drop(columns=['Unnamed: 0','serving','coockingTime','difficult','recipe_source','menu_img'],axis=1)\n",
        "# recipeData = recipeData.drop(columns=['serving','coockingTime','difficult','recipe_source','menu_img'],axis=1)"
      ],
      "execution_count": null,
      "outputs": []
    },
    {
      "cell_type": "code",
      "metadata": {
        "id": "uUUIka98lTY_"
      },
      "source": [
        "# #필요없는 column 제거\n",
        "userData = userData.drop(columns= ['Unnamed: 0','created_day'])\n",
        "# userData = userData.drop(columns= ['Unnamed: 0'])\n",
        "# userData = userData.drop(columns= ['created_day'])"
      ],
      "execution_count": null,
      "outputs": []
    },
    {
      "cell_type": "code",
      "metadata": {
        "id": "QqEa0CE0qneM"
      },
      "source": [
        "#결측값 제거\n",
        "userData = userData.dropna(axis = 0)"
      ],
      "execution_count": null,
      "outputs": []
    },
    {
      "cell_type": "code",
      "metadata": {
        "id": "M1Gu6cC6nQ2w"
      },
      "source": [
        "#이름 순으로 정렬\n",
        "userData = userData.sort_values(by='nick',ascending=True)"
      ],
      "execution_count": null,
      "outputs": []
    },
    {
      "cell_type": "code",
      "metadata": {
        "id": "OvVjVg9OsdE6"
      },
      "source": [
        "#userId 추가\n",
        "userData['userId'] = \"\""
      ],
      "execution_count": null,
      "outputs": []
    },
    {
      "cell_type": "code",
      "metadata": {
        "id": "4GwAOV6as8nM"
      },
      "source": [
        "#rId와 grade 값을 정수형으로 변환\n",
        "userData[['rId','grade']] = userData[['rId','grade']].astype(int)"
      ],
      "execution_count": null,
      "outputs": []
    },
    {
      "cell_type": "code",
      "metadata": {
        "id": "GpT3JrCkvUfq"
      },
      "source": [
        "#userData에서 nick이 공란일 경우 모두 제거\n",
        "userData = userData[userData.nick != ' ']\n",
        "userData = userData[userData.nick != \"#NAME?\"]"
      ],
      "execution_count": null,
      "outputs": []
    },
    {
      "cell_type": "code",
      "metadata": {
        "id": "seNW3ow_smwz"
      },
      "source": [
        "#공백제거\n",
        "userData['nick'].str.strip()"
      ],
      "execution_count": null,
      "outputs": []
    },
    {
      "cell_type": "code",
      "metadata": {
        "id": "5krtli3unIUW"
      },
      "source": [
        "#userId를 넣기 위한 인덱스 초기화\n",
        "userData = userData.reset_index()\n",
        "userData = userData.drop(columns=['index'],axis = 1)"
      ],
      "execution_count": null,
      "outputs": []
    },
    {
      "cell_type": "code",
      "metadata": {
        "id": "U-MeRFIS-r0-"
      },
      "source": [
        "#User ID 부여 - 중복방지\n",
        "userID = 1\n",
        "\n",
        "for i in range(377265): \n",
        "  if i % 10000 == 0 :\n",
        "    print(i)\n",
        "  if i == 0:\n",
        "    userData['userId'][i] = userID\n",
        "  elif userData['nick'][i] != userData['nick'][i-1] :\n",
        "    userID = userID + 1\n",
        "    userData['userId'][i] = userID\n",
        "  else :\n",
        "    userData['userId'][i] = userID"
      ],
      "execution_count": null,
      "outputs": []
    },
    {
      "cell_type": "code",
      "metadata": {
        "id": "5tREaVk8Emd9"
      },
      "source": [
        "#누락 추가\n",
        "userData['userId'][377265] = 54410"
      ],
      "execution_count": null,
      "outputs": []
    },
    {
      "cell_type": "code",
      "metadata": {
        "id": "UuM0pcz3DEja"
      },
      "source": [
        "#인덱스 초기화\n",
        "userData = userData.reset_index()\n",
        "userData = userData.drop(columns=['index'],axis = 1)"
      ],
      "execution_count": null,
      "outputs": []
    },
    {
      "cell_type": "code",
      "metadata": {
        "id": "T7N0JUAFpd8j",
        "colab": {
          "base_uri": "https://localhost:8080/",
          "height": 419
        },
        "outputId": "44faee9b-dc45-4b11-842a-067e8573656e"
      },
      "source": [
        "userData"
      ],
      "execution_count": null,
      "outputs": [
        {
          "output_type": "execute_result",
          "data": {
            "text/html": [
              "<div>\n",
              "<style scoped>\n",
              "    .dataframe tbody tr th:only-of-type {\n",
              "        vertical-align: middle;\n",
              "    }\n",
              "\n",
              "    .dataframe tbody tr th {\n",
              "        vertical-align: top;\n",
              "    }\n",
              "\n",
              "    .dataframe thead th {\n",
              "        text-align: right;\n",
              "    }\n",
              "</style>\n",
              "<table border=\"1\" class=\"dataframe\">\n",
              "  <thead>\n",
              "    <tr style=\"text-align: right;\">\n",
              "      <th></th>\n",
              "      <th>nick</th>\n",
              "      <th>created_day</th>\n",
              "      <th>rId</th>\n",
              "      <th>grade</th>\n",
              "      <th>userId</th>\n",
              "    </tr>\n",
              "  </thead>\n",
              "  <tbody>\n",
              "    <tr>\n",
              "      <th>0</th>\n",
              "      <td>(^o^)/ 요리조아</td>\n",
              "      <td>2019-01-22 0:04</td>\n",
              "      <td>83478</td>\n",
              "      <td>5</td>\n",
              "      <td>1</td>\n",
              "    </tr>\n",
              "    <tr>\n",
              "      <th>1</th>\n",
              "      <td>(^o^)/ 요리조아</td>\n",
              "      <td>2019-03-25 18:39</td>\n",
              "      <td>75374</td>\n",
              "      <td>5</td>\n",
              "      <td>1</td>\n",
              "    </tr>\n",
              "    <tr>\n",
              "      <th>2</th>\n",
              "      <td>(^o^)/ 요리조아</td>\n",
              "      <td>2019-01-22 0:04</td>\n",
              "      <td>65581</td>\n",
              "      <td>5</td>\n",
              "      <td>1</td>\n",
              "    </tr>\n",
              "    <tr>\n",
              "      <th>3</th>\n",
              "      <td>(^o^)/ 요리조아</td>\n",
              "      <td>2019-01-22 0:04</td>\n",
              "      <td>65663</td>\n",
              "      <td>5</td>\n",
              "      <td>1</td>\n",
              "    </tr>\n",
              "    <tr>\n",
              "      <th>4</th>\n",
              "      <td>(^o^)/ 요리조아</td>\n",
              "      <td>2019-01-22 0:04</td>\n",
              "      <td>83560</td>\n",
              "      <td>5</td>\n",
              "      <td>1</td>\n",
              "    </tr>\n",
              "    <tr>\n",
              "      <th>...</th>\n",
              "      <td>...</td>\n",
              "      <td>...</td>\n",
              "      <td>...</td>\n",
              "      <td>...</td>\n",
              "      <td>...</td>\n",
              "    </tr>\n",
              "    <tr>\n",
              "      <th>373889</th>\n",
              "      <td>ＹＯＯＮ</td>\n",
              "      <td>2019-05-21 8:54</td>\n",
              "      <td>170492</td>\n",
              "      <td>5</td>\n",
              "      <td>54410</td>\n",
              "    </tr>\n",
              "    <tr>\n",
              "      <th>373890</th>\n",
              "      <td>ＹＯＯＮ</td>\n",
              "      <td>2019-05-21 8:54</td>\n",
              "      <td>159289</td>\n",
              "      <td>5</td>\n",
              "      <td>54410</td>\n",
              "    </tr>\n",
              "    <tr>\n",
              "      <th>373891</th>\n",
              "      <td>ＹＯＯＮ</td>\n",
              "      <td>2019-05-21 8:54</td>\n",
              "      <td>166640</td>\n",
              "      <td>5</td>\n",
              "      <td>54410</td>\n",
              "    </tr>\n",
              "    <tr>\n",
              "      <th>373892</th>\n",
              "      <td>ＹＯＯＮ</td>\n",
              "      <td>2019-05-21 8:54</td>\n",
              "      <td>91293</td>\n",
              "      <td>5</td>\n",
              "      <td>54410</td>\n",
              "    </tr>\n",
              "    <tr>\n",
              "      <th>373893</th>\n",
              "      <td>ＹＯＯＮ</td>\n",
              "      <td>2019-05-21 8:54</td>\n",
              "      <td>176893</td>\n",
              "      <td>5</td>\n",
              "      <td>54410</td>\n",
              "    </tr>\n",
              "  </tbody>\n",
              "</table>\n",
              "<p>373894 rows × 5 columns</p>\n",
              "</div>"
            ],
            "text/plain": [
              "                 nick       created_day     rId  grade userId\n",
              "0        (^o^)/ 요리조아    2019-01-22 0:04   83478      5      1\n",
              "1        (^o^)/ 요리조아   2019-03-25 18:39   75374      5      1\n",
              "2        (^o^)/ 요리조아    2019-01-22 0:04   65581      5      1\n",
              "3        (^o^)/ 요리조아    2019-01-22 0:04   65663      5      1\n",
              "4        (^o^)/ 요리조아    2019-01-22 0:04   83560      5      1\n",
              "...               ...               ...     ...    ...    ...\n",
              "373889          ＹＯＯＮ    2019-05-21 8:54  170492      5  54410\n",
              "373890          ＹＯＯＮ    2019-05-21 8:54  159289      5  54410\n",
              "373891          ＹＯＯＮ    2019-05-21 8:54  166640      5  54410\n",
              "373892          ＹＯＯＮ    2019-05-21 8:54   91293      5  54410\n",
              "373893          ＹＯＯＮ    2019-05-21 8:54  176893      5  54410\n",
              "\n",
              "[373894 rows x 5 columns]"
            ]
          },
          "metadata": {},
          "execution_count": 27
        }
      ]
    },
    {
      "cell_type": "code",
      "metadata": {
        "id": "Egnjckq9ChjB"
      },
      "source": [
        "userData.to_csv(\"userData.csv\",encoding='utf-8-sig')"
      ],
      "execution_count": null,
      "outputs": []
    },
    {
      "cell_type": "code",
      "metadata": {
        "id": "R000yIbNqITW"
      },
      "source": [
        "recipeData = recipeData.drop(['Unnamed: 0'],axis=1)"
      ],
      "execution_count": null,
      "outputs": []
    },
    {
      "cell_type": "code",
      "metadata": {
        "id": "Q8LPQtsBFYk7"
      },
      "source": [
        "recipeData"
      ],
      "execution_count": null,
      "outputs": []
    },
    {
      "cell_type": "code",
      "metadata": {
        "id": "vfrnzhfxFpWp"
      },
      "source": [
        "recipeData.to_csv(\"recipeData.csv\",encoding='utf-8-sig')"
      ],
      "execution_count": null,
      "outputs": []
    },
    {
      "cell_type": "markdown",
      "metadata": {
        "id": "ry-mBcfAUwa5"
      },
      "source": [
        "#**추가**"
      ]
    },
    {
      "cell_type": "code",
      "metadata": {
        "id": "-6pqoFTXUtI9"
      },
      "source": [
        "#협업필터링 형태로\n",
        "#recipeData 분리\n",
        "recipeData = recipeData[['rId','recipe_title','recipe_category']]\n",
        "#userData 분리\n",
        "userData = userData[['rId', 'userId','grade']]\n",
        "\n",
        "newDataFrame = pd.merge(recipeData,userData,on='rId')"
      ],
      "execution_count": null,
      "outputs": []
    },
    {
      "cell_type": "code",
      "metadata": {
        "id": "kMil383PDovY"
      },
      "source": [
        "#인덱스 초기화\n",
        "userData = userData.reset_index()\n",
        "userData = userData.drop(columns=['index'],axis = 1)\n",
        "\n",
        "recipeData = recipeData.reset_index()\n",
        "recipeData = recipeData.drop(columns=['index'],axis = 1)"
      ],
      "execution_count": null,
      "outputs": []
    },
    {
      "cell_type": "code",
      "metadata": {
        "id": "_l30jO6yPWQS"
      },
      "source": [
        "#rId를 기준으로 정렬\n",
        "recipeData.sort_values(by='rId',ascending=True)"
      ],
      "execution_count": null,
      "outputs": []
    },
    {
      "cell_type": "code",
      "metadata": {
        "id": "yqiMuzuzGLmR"
      },
      "source": [
        "#CSV파일로 저장!\n",
        "UserRating = userData.to_csv(\"UserRating.csv\",mode = 'w',encoding='utf-8-sig')"
      ],
      "execution_count": null,
      "outputs": []
    },
    {
      "cell_type": "code",
      "metadata": {
        "id": "lQSOiPNiO6BC"
      },
      "source": [
        "#CSV파일로 저장!\n",
        "recipeDataSet = recipeData.to_csv(\"recipeDataSet.csv\",mode = 'w',encoding='utf-8-sig')"
      ],
      "execution_count": null,
      "outputs": []
    },
    {
      "cell_type": "markdown",
      "metadata": {
        "id": "IgIuVwJNV4i8"
      },
      "source": [
        "#**중간생략**"
      ]
    },
    {
      "cell_type": "code",
      "metadata": {
        "id": "gTcl7SZ76rF2"
      },
      "source": [
        "#업로드 \n",
        "myFirstDf = files.upload()\n",
        "mySecondDf = files.upload()"
      ],
      "execution_count": null,
      "outputs": []
    },
    {
      "cell_type": "code",
      "metadata": {
        "id": "IQx-lZCQiGcj"
      },
      "source": [
        "# #데이터프레임으로 변경\n",
        "recipeData = pd.read_csv(io.BytesIO(myFirstDf['recipeData.csv']))\n",
        "userData = pd.read_csv(io.BytesIO(mySecondDf['UserData.csv']))\n",
        "# recipeData = pd.read_csv('recipeDataSet.csv')\n",
        "# userData = pd.read_csv('UserRating.csv')"
      ],
      "execution_count": null,
      "outputs": []
    },
    {
      "cell_type": "code",
      "metadata": {
        "id": "BTAs0y_i64TS"
      },
      "source": [
        "recipeData = pd.read_csv('recipeData.csv',encoding='utf-8-sig')\n",
        "userData = pd.read_csv('userData.csv',encoding= 'utf-8-sig')"
      ],
      "execution_count": null,
      "outputs": []
    },
    {
      "cell_type": "code",
      "metadata": {
        "id": "s_2aHnP2hrFp"
      },
      "source": [
        "#중간파일 업로드시\n",
        "recipeData = recipeData.drop(['recipe_title','Unnamed: 0'],axis = 1)\n",
        "userData = userData.drop(['Unnamed: 0'],axis = 1)"
      ],
      "execution_count": null,
      "outputs": []
    },
    {
      "cell_type": "code",
      "metadata": {
        "id": "MnHi6hVmgneq"
      },
      "source": [
        "#카테고리 or title 제거\n",
        "#recipeData = recipeData.drop('recipe_title',axis = 1)"
      ],
      "execution_count": null,
      "outputs": []
    },
    {
      "cell_type": "code",
      "metadata": {
        "id": "12JfEFnlW2lF"
      },
      "source": [
        "# 두 데이터프레임을 합쳐보자\n",
        "userRecipeRating = pd.merge(userData,recipeData,on = 'rId')"
      ],
      "execution_count": null,
      "outputs": []
    },
    {
      "cell_type": "code",
      "metadata": {
        "id": "CyQGEU981kmE"
      },
      "source": [
        "userRecipeRating = userRecipeRating.drop_duplicates(['rId', 'userId','recipe_category'])"
      ],
      "execution_count": null,
      "outputs": []
    },
    {
      "cell_type": "code",
      "metadata": {
        "id": "1lrWnpEL1w1r"
      },
      "source": [
        "#인덱스 초기화\n",
        "userRecipeRating = userRecipeRating.reset_index()\n",
        "userRecipeRating = userRecipeRating.drop(columns=['index'],axis = 1)"
      ],
      "execution_count": null,
      "outputs": []
    },
    {
      "cell_type": "code",
      "metadata": {
        "id": "uI3mQD71G7HX"
      },
      "source": [
        "userRecipeRating = userRecipeRating.drop(['recipe_title'],axis = 1)"
      ],
      "execution_count": null,
      "outputs": []
    },
    {
      "cell_type": "markdown",
      "metadata": {
        "id": "TPOEzG6jV8vO"
      },
      "source": [
        "#**협업필터링**"
      ]
    },
    {
      "cell_type": "code",
      "metadata": {
        "id": "5foYfmM4ck3I"
      },
      "source": [
        "#recipeUserRating = userRecipeRating.groupby(['userId','recipe_category'])['grade'].max().unstack()\n",
        "recipeUserRating = userRecipeRating.pivot_table('grade',index = 'recipe_category', columns='userId')"
      ],
      "execution_count": null,
      "outputs": []
    },
    {
      "cell_type": "code",
      "metadata": {
        "id": "mJtWceHMsnG7"
      },
      "source": [
        "#N/A 값들을 0으로 대체\n",
        "recipeUserRating.fillna(0,inplace=True)"
      ],
      "execution_count": null,
      "outputs": []
    },
    {
      "cell_type": "code",
      "metadata": {
        "id": "mt61FYi1eRuZ"
      },
      "source": [
        "from sklearn.metrics.pairwise import cosine_similarity\n",
        "from scipy import sparse\n",
        "\n",
        "compressed = sparse.csr_matrix(recipeUserRating)"
      ],
      "execution_count": null,
      "outputs": []
    },
    {
      "cell_type": "code",
      "metadata": {
        "id": "c_CXMhtPewwj"
      },
      "source": [
        "similarities = cosine_similarity(recipeUserRating)"
      ],
      "execution_count": null,
      "outputs": []
    },
    {
      "cell_type": "code",
      "metadata": {
        "id": "4Mxj912BfdSR"
      },
      "source": [
        "itemBasedCollabor = similarities"
      ],
      "execution_count": null,
      "outputs": []
    },
    {
      "cell_type": "code",
      "metadata": {
        "id": "4eeqoeRBA8lr"
      },
      "source": [
        "#인덱스/컬럼 itemBasedCollabor 값으로 넣기\n",
        "itemBasedCollabor = pd.DataFrame(data = itemBasedCollabor,index = recipeUserRating.index, columns= recipeUserRating.index)"
      ],
      "execution_count": null,
      "outputs": []
    },
    {
      "cell_type": "code",
      "metadata": {
        "id": "nGfDsczITv6d"
      },
      "source": [
        "#키로 검색시 에러방지를 위해 좌우 스트립\n",
        "itemBasedCollabor.columns = itemBasedCollabor.columns.str.strip()\n",
        "itemBasedCollabor.index =  itemBasedCollabor.index.str.strip()\n",
        "itemBasedCollabor"
      ],
      "execution_count": null,
      "outputs": []
    },
    {
      "cell_type": "code",
      "metadata": {
        "id": "6pDrDJ_XUcl_"
      },
      "source": [
        "#CSV로 저장\n",
        "itemBasedCollabor.to_csv(\"collaborated.csv\",encoding='utf-8-sig')"
      ],
      "execution_count": null,
      "outputs": []
    },
    {
      "cell_type": "code",
      "metadata": {
        "id": "lk8Rjo0-BSjx"
      },
      "source": [
        "#특정 아이템을 선호한다면 함께 보여줄 아이템 리스트 6개정도를 보여주는 함수\n",
        "def getItemBasedCollabor(recipe_category):\n",
        "  return itemBasedCollabor[recipe_category].sort_values(ascending = False)[:20]"
      ],
      "execution_count": null,
      "outputs": []
    },
    {
      "cell_type": "code",
      "metadata": {
        "id": "TTgg4Nf5Hh8z"
      },
      "source": [
        "itemBasedCollabor"
      ],
      "execution_count": null,
      "outputs": []
    },
    {
      "cell_type": "code",
      "metadata": {
        "id": "oDLGQDv-G2Sz"
      },
      "source": [
        "getItemBasedCollabor(\"가래떡그라탕\")"
      ],
      "execution_count": null,
      "outputs": []
    },
    {
      "cell_type": "markdown",
      "metadata": {
        "id": "xIF976YUPCcy"
      },
      "source": [
        "#**디폴트 레시피 만들기**"
      ]
    },
    {
      "cell_type": "code",
      "metadata": {
        "id": "HnblwEOYPbk_"
      },
      "source": [
        "#데이터프레임으로 변경\n",
        "recipeSource = pd.read_csv(io.BytesIO(myFirstDf['first.csv']),encoding='cp949')\n",
        "userDataSource = pd.read_csv(io.BytesIO(mySecondDf['third.csv']),encoding='cp949')"
      ],
      "execution_count": null,
      "outputs": []
    },
    {
      "cell_type": "code",
      "metadata": {
        "id": "QV1ptO0X0-Hi"
      },
      "source": [
        "#모든 컬럼값을 가지고 있는 변수만들기\n",
        "loop = itemBasedCollabor.columns"
      ],
      "execution_count": null,
      "outputs": []
    },
    {
      "cell_type": "code",
      "metadata": {
        "id": "vEH0wubM1IK_"
      },
      "source": [
        "#각 행별로 더한 값을 리스트에 추가하기\n",
        "scoreList = {}\n",
        "for item in itemBasedCollabor:\n",
        "  scoreList[item] = itemBasedCollabor[item].sum()"
      ],
      "execution_count": null,
      "outputs": []
    },
    {
      "cell_type": "code",
      "metadata": {
        "id": "piqs9Dek2eC9"
      },
      "source": [
        "import operator\n",
        "#내림차순 정렬\n",
        "sortedList = sorted(scoreList.items(),key=operator.itemgetter(1),reverse=True)"
      ],
      "execution_count": null,
      "outputs": []
    },
    {
      "cell_type": "code",
      "metadata": {
        "id": "Yrkksoop2fis"
      },
      "source": [
        "#확인\n",
        "sortedList"
      ],
      "execution_count": null,
      "outputs": []
    },
    {
      "cell_type": "code",
      "metadata": {
        "id": "yVNvsa6V8fwp"
      },
      "source": [
        "#상위 100개의 카테고리 가지고 오기\n",
        "rankList = sortedList[:201]"
      ],
      "execution_count": null,
      "outputs": []
    },
    {
      "cell_type": "code",
      "metadata": {
        "id": "IvvT5CRX8yfX"
      },
      "source": [
        "compList = []\n",
        "for item in range(200):\n",
        "  compList.append(rankList[item][0])"
      ],
      "execution_count": null,
      "outputs": []
    },
    {
      "cell_type": "code",
      "metadata": {
        "id": "e9JT8JRf9d0-"
      },
      "source": [
        "compList"
      ],
      "execution_count": null,
      "outputs": []
    },
    {
      "cell_type": "code",
      "metadata": {
        "colab": {
          "base_uri": "https://localhost:8080/",
          "height": 419
        },
        "id": "Jpb00A5vVjQt",
        "outputId": "3d243fe7-4dfe-4995-b338-09f02ecf5fee"
      },
      "source": [
        "recipeData"
      ],
      "execution_count": null,
      "outputs": [
        {
          "output_type": "execute_result",
          "data": {
            "text/html": [
              "<div>\n",
              "<style scoped>\n",
              "    .dataframe tbody tr th:only-of-type {\n",
              "        vertical-align: middle;\n",
              "    }\n",
              "\n",
              "    .dataframe tbody tr th {\n",
              "        vertical-align: top;\n",
              "    }\n",
              "\n",
              "    .dataframe thead th {\n",
              "        text-align: right;\n",
              "    }\n",
              "</style>\n",
              "<table border=\"1\" class=\"dataframe\">\n",
              "  <thead>\n",
              "    <tr style=\"text-align: right;\">\n",
              "      <th></th>\n",
              "      <th>rId</th>\n",
              "      <th>recipe_category</th>\n",
              "    </tr>\n",
              "  </thead>\n",
              "  <tbody>\n",
              "    <tr>\n",
              "      <th>0</th>\n",
              "      <td>1</td>\n",
              "      <td>참치김치볶음밥</td>\n",
              "    </tr>\n",
              "    <tr>\n",
              "      <th>1</th>\n",
              "      <td>2</td>\n",
              "      <td>참치김치볶음밥</td>\n",
              "    </tr>\n",
              "    <tr>\n",
              "      <th>2</th>\n",
              "      <td>3</td>\n",
              "      <td>참치김치볶음밥</td>\n",
              "    </tr>\n",
              "    <tr>\n",
              "      <th>3</th>\n",
              "      <td>4</td>\n",
              "      <td>참치김치볶음밥</td>\n",
              "    </tr>\n",
              "    <tr>\n",
              "      <th>4</th>\n",
              "      <td>5</td>\n",
              "      <td>참치김치볶음밥</td>\n",
              "    </tr>\n",
              "    <tr>\n",
              "      <th>...</th>\n",
              "      <td>...</td>\n",
              "      <td>...</td>\n",
              "    </tr>\n",
              "    <tr>\n",
              "      <th>161220</th>\n",
              "      <td>180612</td>\n",
              "      <td>코코넛커피</td>\n",
              "    </tr>\n",
              "    <tr>\n",
              "      <th>161221</th>\n",
              "      <td>180613</td>\n",
              "      <td>커피전</td>\n",
              "    </tr>\n",
              "    <tr>\n",
              "      <th>161222</th>\n",
              "      <td>180614</td>\n",
              "      <td>커피전</td>\n",
              "    </tr>\n",
              "    <tr>\n",
              "      <th>161223</th>\n",
              "      <td>180615</td>\n",
              "      <td>피칸커피케이크</td>\n",
              "    </tr>\n",
              "    <tr>\n",
              "      <th>161224</th>\n",
              "      <td>180616</td>\n",
              "      <td>피칸커피케이크</td>\n",
              "    </tr>\n",
              "  </tbody>\n",
              "</table>\n",
              "<p>161225 rows × 2 columns</p>\n",
              "</div>"
            ],
            "text/plain": [
              "           rId recipe_category\n",
              "0            1         참치김치볶음밥\n",
              "1            2         참치김치볶음밥\n",
              "2            3         참치김치볶음밥\n",
              "3            4         참치김치볶음밥\n",
              "4            5         참치김치볶음밥\n",
              "...        ...             ...\n",
              "161220  180612           코코넛커피\n",
              "161221  180613             커피전\n",
              "161222  180614             커피전\n",
              "161223  180615         피칸커피케이크\n",
              "161224  180616         피칸커피케이크\n",
              "\n",
              "[161225 rows x 2 columns]"
            ]
          },
          "metadata": {},
          "execution_count": 33
        }
      ]
    },
    {
      "cell_type": "code",
      "metadata": {
        "colab": {
          "base_uri": "https://localhost:8080/"
        },
        "id": "6T2ULhFd_Sfq",
        "outputId": "56ce53d4-ea49-44d3-b618-1d4c6ac211b9"
      },
      "source": [
        "#디폴트 레시피 만들기\n",
        "defaultMainRecipes = []\n",
        "lowCnt = 0\n",
        "#각 카테고리의 음식을 가지고와보자!\n",
        "for high in compList:\n",
        "  lowCnt = 0   \n",
        "  for low in recipeData[\"recipe_category\"]:\n",
        "   lowCnt += 1\n",
        "   if high == low :\n",
        "     defaultMainRecipes.append(recipeData[\"rId\"][lowCnt])\n",
        "     break\n",
        "\n",
        "print(defaultMainRecipes)"
      ],
      "execution_count": null,
      "outputs": [
        {
          "output_type": "stream",
          "name": "stdout",
          "text": [
            "[28159, 61532, 179175, 136243, 26882, 159934, 2845, 75518, 103282, 133151, 6258, 13714, 13707, 66044, 117483, 28889, 91268, 647, 62635, 99364, 100130, 74171, 332, 82796, 105031, 25847, 1342, 83970, 21415, 83352, 99932, 13685, 16698, 104282, 61744, 117276, 25921, 94689, 28404, 5136, 104049, 75446, 115706, 9442, 131606, 101654, 177270, 166375, 50889, 155582, 141868, 95195, 130326, 103109, 74825, 52742, 10023, 3647, 25018, 87975, 169155, 124244, 13616, 62277, 134027, 7045, 174673, 105498, 61826, 62818, 5068, 50071, 24926, 75489, 293, 16432, 154850, 116613, 105485, 99633, 18985, 158861, 45464, 18105, 118399, 18374, 65853, 139469, 112983, 4294, 179592, 124248, 162633, 39679, 74783, 135694, 65308, 27588, 173909, 115418, 46913, 100759, 115304, 4267, 4785, 63276, 86875, 20171, 72938, 28391, 160077, 14000, 2494, 4649, 138303, 159633, 115507, 117196, 92289, 168703, 94803, 10859, 110040, 124364, 21202, 28271, 117884, 131917, 96833, 116430, 101864, 113116, 53072, 132575, 119062, 377, 19370, 19375, 51331, 90003, 132473, 100143, 167909, 4459, 48013, 89527, 117821, 50320, 27538, 170520, 160608, 4468, 112176, 94831, 85705, 126408, 93335, 13650, 110439, 7459, 175202, 126842, 116550, 85982, 117110, 91332, 24875, 28228, 8260, 93474, 73523, 85871, 178198, 73625, 24397, 24851, 115664, 115312, 168124, 27496, 51935, 28190, 73956, 108552, 99835, 99890, 3905, 88309, 45270, 103073, 65826, 17613, 171574, 96703, 20128, 5096, 16244, 142003, 151017, 49109]\n"
          ]
        }
      ]
    },
    {
      "cell_type": "code",
      "metadata": {
        "id": "gSvY3n_RGB8c"
      },
      "source": [
        "#확인용\n",
        "for i in range(len(defaultMainRecipes)):\n",
        "  for j in range(len(recipeSource)):\n",
        "   if recipeSource[\"rId\"][j] ==  defaultMainRecipes[i]:\n",
        "     print(recipeSource[\"recipe_title\"][j])\n",
        "     break"
      ],
      "execution_count": null,
      "outputs": []
    },
    {
      "cell_type": "code",
      "metadata": {
        "id": "7rE13z6LdfNy"
      },
      "source": [
        "userData = userData.sort_values(by=['rId'],axis = 0,ascending=True)\n",
        "userData = userData.reset_index( drop = True )\n",
        "userData"
      ],
      "execution_count": null,
      "outputs": []
    },
    {
      "cell_type": "code",
      "metadata": {
        "id": "s1Gv-IPBd9vN"
      },
      "source": [
        "countRating = []\n",
        "for i in range(len(userData)):\n",
        "  countRating.append(userData[\"rId\"][i])"
      ],
      "execution_count": null,
      "outputs": []
    },
    {
      "cell_type": "code",
      "metadata": {
        "id": "fCZy2csc7kvK"
      },
      "source": [
        "countRating.count(9)"
      ],
      "execution_count": null,
      "outputs": []
    },
    {
      "cell_type": "code",
      "metadata": {
        "id": "tHdUabMVfZCW"
      },
      "source": [
        "cntList = []\n",
        "prev = 0\n",
        "minus = 1\n",
        "for i in range(len(countRating)): \n",
        "  count = 0\n",
        "  i += prev\n",
        "  if i > len(countRating) : break\n",
        "  for j in range(i,len(countRating)):\n",
        "    if countRating[i] == countRating[j]:\n",
        "      count += 1\n",
        "    else:\n",
        "      cntList.append((countRating[i],count))\n",
        "      prev = i+count-minus\n",
        "      minus +=1\n",
        "      print(i,prev,countRating[i],count)\n",
        "      break\n",
        "  # cntList.append((countRating[i],count))\n",
        "  # prev = i+count-1\n",
        "  # print(i,prev,countRating[i],count)\n"
      ],
      "execution_count": null,
      "outputs": []
    },
    {
      "cell_type": "code",
      "metadata": {
        "id": "EDdFr7C9ty9L"
      },
      "source": [
        "cntList.sort(key=lambda x:x[1],reverse=True)"
      ],
      "execution_count": null,
      "outputs": []
    },
    {
      "cell_type": "code",
      "metadata": {
        "colab": {
          "base_uri": "https://localhost:8080/"
        },
        "id": "jkG335wR77ts",
        "outputId": "3cd2d099-a36c-4273-811c-6743786b21e6"
      },
      "source": [
        "for i in range(len(recipeSource)):\n",
        "  if recipeSource[\"rId\"][i] == 25022:\n",
        "    print(recipeSource[\"recipe_title\"][i])\n",
        "    break"
      ],
      "execution_count": null,
      "outputs": [
        {
          "output_type": "stream",
          "name": "stdout",
          "text": [
            "닭볶음탕 진짜진짜 황금레시피 알려 드려요~~^^\n"
          ]
        }
      ]
    },
    {
      "cell_type": "code",
      "metadata": {
        "id": "t4EULVIf0xwq"
      },
      "source": [
        "for i,j in cntList:\n",
        "  for q,k in cntList:\n",
        "    if j == k :\n",
        "      cntList.remove((q,k))"
      ],
      "execution_count": null,
      "outputs": []
    },
    {
      "cell_type": "code",
      "metadata": {
        "id": "WccmBnHc6_YB"
      },
      "source": [
        "ranking = []\n",
        "for i,j in cntList:\n",
        "  ranking.append(i)"
      ],
      "execution_count": null,
      "outputs": []
    },
    {
      "cell_type": "code",
      "metadata": {
        "id": "YRlVi4Jd9_uQ"
      },
      "source": [
        "ranking = ranking[:100]"
      ],
      "execution_count": null,
      "outputs": []
    },
    {
      "cell_type": "code",
      "metadata": {
        "colab": {
          "base_uri": "https://localhost:8080/"
        },
        "id": "s66FoL_i-Ns0",
        "outputId": "58d20176-e6d2-467b-8aff-b98f6b374c8a"
      },
      "source": [
        "ranking"
      ],
      "execution_count": null,
      "outputs": [
        {
          "output_type": "execute_result",
          "data": {
            "text/plain": [
              "[23694,\n",
              " 23689,\n",
              " 91331,\n",
              " 121119,\n",
              " 17743,\n",
              " 19963,\n",
              " 100269,\n",
              " 18986,\n",
              " 106042,\n",
              " 110642,\n",
              " 20932,\n",
              " 8212,\n",
              " 20654,\n",
              " 64512,\n",
              " 23691,\n",
              " 1348,\n",
              " 115705,\n",
              " 125486,\n",
              " 85435,\n",
              " 174484,\n",
              " 126754,\n",
              " 75780,\n",
              " 142297,\n",
              " 92544,\n",
              " 5967,\n",
              " 123292,\n",
              " 75680,\n",
              " 83722,\n",
              " 75773,\n",
              " 177283,\n",
              " 97979,\n",
              " 75741,\n",
              " 66067,\n",
              " 142212,\n",
              " 63487,\n",
              " 117181,\n",
              " 119390,\n",
              " 8259,\n",
              " 23719,\n",
              " 63374,\n",
              " 142189,\n",
              " 103444,\n",
              " 114286,\n",
              " 74543,\n",
              " 85081,\n",
              " 113244,\n",
              " 21513,\n",
              " 157515,\n",
              " 109419,\n",
              " 175408,\n",
              " 157053,\n",
              " 107719,\n",
              " 1343,\n",
              " 171421,\n",
              " 121766,\n",
              " 7044,\n",
              " 85018,\n",
              " 75786,\n",
              " 684,\n",
              " 110440,\n",
              " 142333,\n",
              " 128997,\n",
              " 178122,\n",
              " 1353,\n",
              " 174672,\n",
              " 48542,\n",
              " 61648,\n",
              " 108008,\n",
              " 88074,\n",
              " 92365,\n",
              " 121767,\n",
              " 74809,\n",
              " 174088,\n",
              " 96857,\n",
              " 1346,\n",
              " 156996,\n",
              " 171378,\n",
              " 62885,\n",
              " 118336,\n",
              " 28985,\n",
              " 49478,\n",
              " 170683,\n",
              " 23693,\n",
              " 174545,\n",
              " 74834,\n",
              " 106493,\n",
              " 9177,\n",
              " 21417,\n",
              " 20388,\n",
              " 106043,\n",
              " 174548,\n",
              " 16013,\n",
              " 112179,\n",
              " 126228,\n",
              " 96858,\n",
              " 110442,\n",
              " 66105,\n",
              " 177280,\n",
              " 95226,\n",
              " 125416]"
            ]
          },
          "metadata": {},
          "execution_count": 175
        }
      ]
    },
    {
      "cell_type": "code",
      "metadata": {
        "id": "E3Mssx32-W3J"
      },
      "source": [
        ""
      ],
      "execution_count": null,
      "outputs": []
    },
    {
      "cell_type": "markdown",
      "metadata": {
        "id": "1c4CSOZArJcq"
      },
      "source": [
        "#**레시피 추천 알고리즘**"
      ]
    },
    {
      "cell_type": "code",
      "metadata": {
        "id": "1kMKpnLYrOJm"
      },
      "source": [
        "# 알고리즘 : 기본적으로 제공할 레시피들의 집합(자율) + 유저의 선호 카테고리를 이용해 제공할 레시피들의 집합을 적절한 비율로 rId값을 반환하여 넘겨주는 함수를 만든다.  \n",
        "# - 특정 유저가 클릭 혹은 평점을 남긴 레시피가 있다면 이 레시피의 카테고리를 기준\n",
        "# - 각 카테고리에는 여러개의 레시피가 존재한다.(recipeData.csv)\n",
        "# - 해당 카테고리와 유사도가 높은 (colaborated.csv 에서 상위 5개) 카테고리의 레시피를 기본적으로 제공할 레시피들과 함께 자연스럽게 리스트화한다.\n",
        "# - rId(recipe id)값을 반환한다 ( 100개 ~ 200개 )\n",
        "\n",
        "# 조건 \n",
        "# 1. 선호카테고리의 개수(최대 5개)\n",
        "#    - 추가 : 가장 최근 조회한(혹은 평점을 남긴) 카테고리와 이전 카테고리간의 가중치\n",
        "# 2. 기본적으로 제공되는 레시피와 선호 카테고리 레시피와의 가중치 고려"
      ],
      "execution_count": null,
      "outputs": []
    },
    {
      "cell_type": "code",
      "metadata": {
        "id": "QZNdN9R18xgE"
      },
      "source": [
        "recipeData = pd.read_csv('recipeData.csv',encoding='utf-8-sig')\n",
        "userData = pd.read_csv('userData.csv',encoding='utf-8-sig')\n",
        "collaborated = pd.read_csv('collaborated.csv',encoding='utf-8')"
      ],
      "execution_count": null,
      "outputs": []
    },
    {
      "cell_type": "code",
      "metadata": {
        "id": "xyLwTLGYguy6"
      },
      "source": [
        "recipeData = recipeData.drop(['Unnamed: 0'],axis = 1)"
      ],
      "execution_count": null,
      "outputs": []
    },
    {
      "cell_type": "code",
      "metadata": {
        "id": "xObpJq1JE-fb"
      },
      "source": [
        "collaborated = collaborated.set_index('recipe_category')"
      ],
      "execution_count": null,
      "outputs": []
    },
    {
      "cell_type": "code",
      "metadata": {
        "id": "DPBgCTLBQNww"
      },
      "source": [
        "# collaborated.to_csv(\"collaborated.csv\",encoding='utf-8-sig')"
      ],
      "execution_count": null,
      "outputs": []
    },
    {
      "cell_type": "code",
      "metadata": {
        "colab": {
          "base_uri": "https://localhost:8080/",
          "height": 623
        },
        "id": "jJbhsIwBQXCA",
        "outputId": "a8f3c959-4ecc-4b22-cd4d-a01bc63d497d"
      },
      "source": [
        "collaborated"
      ],
      "execution_count": null,
      "outputs": [
        {
          "output_type": "execute_result",
          "data": {
            "text/html": [
              "<div>\n",
              "<style scoped>\n",
              "    .dataframe tbody tr th:only-of-type {\n",
              "        vertical-align: middle;\n",
              "    }\n",
              "\n",
              "    .dataframe tbody tr th {\n",
              "        vertical-align: top;\n",
              "    }\n",
              "\n",
              "    .dataframe thead th {\n",
              "        text-align: right;\n",
              "    }\n",
              "</style>\n",
              "<table border=\"1\" class=\"dataframe\">\n",
              "  <thead>\n",
              "    <tr style=\"text-align: right;\">\n",
              "      <th></th>\n",
              "      <th>BLT샌드위치</th>\n",
              "      <th>LA찹쌀떡</th>\n",
              "      <th>가나슈마카롱</th>\n",
              "      <th>가나슈초코케이크</th>\n",
              "      <th>가라아게</th>\n",
              "      <th>가래떡강정</th>\n",
              "      <th>가래떡그라탕</th>\n",
              "      <th>가래떡김치부침개</th>\n",
              "      <th>가래떡맛탕</th>\n",
              "      <th>가래떡튀김</th>\n",
              "      <th>가시오이부추무침</th>\n",
              "      <th>가자미구이</th>\n",
              "      <th>가자미무조림</th>\n",
              "      <th>가지감자볶음</th>\n",
              "      <th>가지구이덮밥</th>\n",
              "      <th>가지구이무침</th>\n",
              "      <th>가지구이샐러드</th>\n",
              "      <th>가지꽈리고추볶음</th>\n",
              "      <th>가지나물무침</th>\n",
              "      <th>가지나물볶음</th>\n",
              "      <th>가지돼지고기볶음</th>\n",
              "      <th>가지무침양념장</th>\n",
              "      <th>가지밥양념장</th>\n",
              "      <th>가지새우볶음</th>\n",
              "      <th>가지어묵볶음</th>\n",
              "      <th>가지오징어볶음</th>\n",
              "      <th>가지전</th>\n",
              "      <th>가지찜무침</th>\n",
              "      <th>가지카레덮밥</th>\n",
              "      <th>가지카레라이스</th>\n",
              "      <th>가지튀김덮밥</th>\n",
              "      <th>가지튀김볶음</th>\n",
              "      <th>가츠동</th>\n",
              "      <th>간장감자조림</th>\n",
              "      <th>간장게장간장</th>\n",
              "      <th>간장고구마조림</th>\n",
              "      <th>간장고추장아찌</th>\n",
              "      <th>간장고추장아찌다대기</th>\n",
              "      <th>간장궁중떡볶이</th>\n",
              "      <th>간장기름떡볶이</th>\n",
              "      <th>...</th>\n",
              "      <th>홍합된장찌개</th>\n",
              "      <th>홍합어묵탕</th>\n",
              "      <th>홍합칼국수</th>\n",
              "      <th>홍합탕수육</th>\n",
              "      <th>홍합토마토스튜</th>\n",
              "      <th>홍합파전</th>\n",
              "      <th>황도바나나잼</th>\n",
              "      <th>황치즈마카롱</th>\n",
              "      <th>황치즈머핀</th>\n",
              "      <th>황치즈쿠키</th>\n",
              "      <th>황태간장닭볶음탕</th>\n",
              "      <th>황태감자국</th>\n",
              "      <th>황태강정</th>\n",
              "      <th>황태달걀국</th>\n",
              "      <th>황태떡국</th>\n",
              "      <th>황태비빔국수</th>\n",
              "      <th>황태오징어무국</th>\n",
              "      <th>황태죽</th>\n",
              "      <th>황태콩나물국</th>\n",
              "      <th>황태콩나물해장국</th>\n",
              "      <th>회오리오므라이스</th>\n",
              "      <th>후라이드치킨</th>\n",
              "      <th>후르츠파운드케이크</th>\n",
              "      <th>훈제닭가슴살무쌈말이</th>\n",
              "      <th>훈제닭가슴살샐러드</th>\n",
              "      <th>훈제연어롤</th>\n",
              "      <th>훈제연어말이</th>\n",
              "      <th>훈제연어샌드위치</th>\n",
              "      <th>훈제연어오믈렛</th>\n",
              "      <th>훈제연어초밥</th>\n",
              "      <th>훈제연어회덮밥</th>\n",
              "      <th>훈제오리단호박찜</th>\n",
              "      <th>훈제오리무쌈말이</th>\n",
              "      <th>훈제오리볶음밥</th>\n",
              "      <th>훈제오리부추무침</th>\n",
              "      <th>훈제오리야채볶음밥</th>\n",
              "      <th>훈제오리월남쌈</th>\n",
              "      <th>훈제오리해파리냉채</th>\n",
              "      <th>흑당카페라떼</th>\n",
              "      <th>흑임자연근샐러드</th>\n",
              "    </tr>\n",
              "    <tr>\n",
              "      <th>recipe_category</th>\n",
              "      <th></th>\n",
              "      <th></th>\n",
              "      <th></th>\n",
              "      <th></th>\n",
              "      <th></th>\n",
              "      <th></th>\n",
              "      <th></th>\n",
              "      <th></th>\n",
              "      <th></th>\n",
              "      <th></th>\n",
              "      <th></th>\n",
              "      <th></th>\n",
              "      <th></th>\n",
              "      <th></th>\n",
              "      <th></th>\n",
              "      <th></th>\n",
              "      <th></th>\n",
              "      <th></th>\n",
              "      <th></th>\n",
              "      <th></th>\n",
              "      <th></th>\n",
              "      <th></th>\n",
              "      <th></th>\n",
              "      <th></th>\n",
              "      <th></th>\n",
              "      <th></th>\n",
              "      <th></th>\n",
              "      <th></th>\n",
              "      <th></th>\n",
              "      <th></th>\n",
              "      <th></th>\n",
              "      <th></th>\n",
              "      <th></th>\n",
              "      <th></th>\n",
              "      <th></th>\n",
              "      <th></th>\n",
              "      <th></th>\n",
              "      <th></th>\n",
              "      <th></th>\n",
              "      <th></th>\n",
              "      <th></th>\n",
              "      <th></th>\n",
              "      <th></th>\n",
              "      <th></th>\n",
              "      <th></th>\n",
              "      <th></th>\n",
              "      <th></th>\n",
              "      <th></th>\n",
              "      <th></th>\n",
              "      <th></th>\n",
              "      <th></th>\n",
              "      <th></th>\n",
              "      <th></th>\n",
              "      <th></th>\n",
              "      <th></th>\n",
              "      <th></th>\n",
              "      <th></th>\n",
              "      <th></th>\n",
              "      <th></th>\n",
              "      <th></th>\n",
              "      <th></th>\n",
              "      <th></th>\n",
              "      <th></th>\n",
              "      <th></th>\n",
              "      <th></th>\n",
              "      <th></th>\n",
              "      <th></th>\n",
              "      <th></th>\n",
              "      <th></th>\n",
              "      <th></th>\n",
              "      <th></th>\n",
              "      <th></th>\n",
              "      <th></th>\n",
              "      <th></th>\n",
              "      <th></th>\n",
              "      <th></th>\n",
              "      <th></th>\n",
              "      <th></th>\n",
              "      <th></th>\n",
              "      <th></th>\n",
              "      <th></th>\n",
              "    </tr>\n",
              "  </thead>\n",
              "  <tbody>\n",
              "    <tr>\n",
              "      <th>BLT샌드위치</th>\n",
              "      <td>1.0</td>\n",
              "      <td>0.0</td>\n",
              "      <td>0.0</td>\n",
              "      <td>0.0</td>\n",
              "      <td>0.0</td>\n",
              "      <td>0.000000</td>\n",
              "      <td>0.0</td>\n",
              "      <td>0.0</td>\n",
              "      <td>0.0</td>\n",
              "      <td>0.0</td>\n",
              "      <td>0.0</td>\n",
              "      <td>0.000000</td>\n",
              "      <td>0.0</td>\n",
              "      <td>0.000000</td>\n",
              "      <td>0.0</td>\n",
              "      <td>0.0</td>\n",
              "      <td>0.0</td>\n",
              "      <td>0.0</td>\n",
              "      <td>0.0</td>\n",
              "      <td>0.035877</td>\n",
              "      <td>0.0</td>\n",
              "      <td>0.0</td>\n",
              "      <td>0.0</td>\n",
              "      <td>0.0</td>\n",
              "      <td>0.0</td>\n",
              "      <td>0.0</td>\n",
              "      <td>0.000000</td>\n",
              "      <td>0.0</td>\n",
              "      <td>0.0</td>\n",
              "      <td>0.0</td>\n",
              "      <td>0.0</td>\n",
              "      <td>0.0</td>\n",
              "      <td>0.000000</td>\n",
              "      <td>0.000000</td>\n",
              "      <td>0.0</td>\n",
              "      <td>0.0</td>\n",
              "      <td>0.0</td>\n",
              "      <td>0.0</td>\n",
              "      <td>0.0</td>\n",
              "      <td>0.0</td>\n",
              "      <td>...</td>\n",
              "      <td>0.0</td>\n",
              "      <td>0.0</td>\n",
              "      <td>0.0</td>\n",
              "      <td>0.000000</td>\n",
              "      <td>0.0</td>\n",
              "      <td>0.0</td>\n",
              "      <td>0.0</td>\n",
              "      <td>0.0</td>\n",
              "      <td>0.0</td>\n",
              "      <td>0.0</td>\n",
              "      <td>0.0</td>\n",
              "      <td>0.0</td>\n",
              "      <td>0.0</td>\n",
              "      <td>0.0</td>\n",
              "      <td>0.0</td>\n",
              "      <td>0.0</td>\n",
              "      <td>0.0</td>\n",
              "      <td>0.0</td>\n",
              "      <td>0.009880</td>\n",
              "      <td>0.012434</td>\n",
              "      <td>0.0</td>\n",
              "      <td>0.000000</td>\n",
              "      <td>0.0</td>\n",
              "      <td>0.0</td>\n",
              "      <td>0.0</td>\n",
              "      <td>0.0</td>\n",
              "      <td>0.0</td>\n",
              "      <td>0.0</td>\n",
              "      <td>0.0</td>\n",
              "      <td>0.0</td>\n",
              "      <td>0.0</td>\n",
              "      <td>0.000000</td>\n",
              "      <td>0.0</td>\n",
              "      <td>0.000000</td>\n",
              "      <td>0.000000</td>\n",
              "      <td>0.0</td>\n",
              "      <td>0.0</td>\n",
              "      <td>0.0</td>\n",
              "      <td>0.0</td>\n",
              "      <td>0.0</td>\n",
              "    </tr>\n",
              "    <tr>\n",
              "      <th>LA찹쌀떡</th>\n",
              "      <td>0.0</td>\n",
              "      <td>1.0</td>\n",
              "      <td>0.0</td>\n",
              "      <td>0.0</td>\n",
              "      <td>0.0</td>\n",
              "      <td>0.000000</td>\n",
              "      <td>0.0</td>\n",
              "      <td>0.0</td>\n",
              "      <td>0.0</td>\n",
              "      <td>0.0</td>\n",
              "      <td>0.0</td>\n",
              "      <td>0.000000</td>\n",
              "      <td>0.0</td>\n",
              "      <td>0.000000</td>\n",
              "      <td>0.0</td>\n",
              "      <td>0.0</td>\n",
              "      <td>0.0</td>\n",
              "      <td>0.0</td>\n",
              "      <td>0.0</td>\n",
              "      <td>0.000000</td>\n",
              "      <td>0.0</td>\n",
              "      <td>0.0</td>\n",
              "      <td>0.0</td>\n",
              "      <td>0.0</td>\n",
              "      <td>0.0</td>\n",
              "      <td>0.0</td>\n",
              "      <td>0.000000</td>\n",
              "      <td>0.0</td>\n",
              "      <td>0.0</td>\n",
              "      <td>0.0</td>\n",
              "      <td>0.0</td>\n",
              "      <td>0.0</td>\n",
              "      <td>0.000000</td>\n",
              "      <td>0.000000</td>\n",
              "      <td>0.0</td>\n",
              "      <td>0.0</td>\n",
              "      <td>0.0</td>\n",
              "      <td>0.0</td>\n",
              "      <td>0.0</td>\n",
              "      <td>0.0</td>\n",
              "      <td>...</td>\n",
              "      <td>0.0</td>\n",
              "      <td>0.0</td>\n",
              "      <td>0.0</td>\n",
              "      <td>0.000000</td>\n",
              "      <td>0.0</td>\n",
              "      <td>0.0</td>\n",
              "      <td>0.0</td>\n",
              "      <td>0.0</td>\n",
              "      <td>0.0</td>\n",
              "      <td>0.0</td>\n",
              "      <td>0.0</td>\n",
              "      <td>0.0</td>\n",
              "      <td>0.0</td>\n",
              "      <td>0.0</td>\n",
              "      <td>0.0</td>\n",
              "      <td>0.0</td>\n",
              "      <td>0.0</td>\n",
              "      <td>0.0</td>\n",
              "      <td>0.000000</td>\n",
              "      <td>0.000000</td>\n",
              "      <td>0.0</td>\n",
              "      <td>0.000000</td>\n",
              "      <td>0.0</td>\n",
              "      <td>0.0</td>\n",
              "      <td>0.0</td>\n",
              "      <td>0.0</td>\n",
              "      <td>0.0</td>\n",
              "      <td>0.0</td>\n",
              "      <td>0.0</td>\n",
              "      <td>0.0</td>\n",
              "      <td>0.0</td>\n",
              "      <td>0.000000</td>\n",
              "      <td>0.0</td>\n",
              "      <td>0.000000</td>\n",
              "      <td>0.000000</td>\n",
              "      <td>0.0</td>\n",
              "      <td>0.0</td>\n",
              "      <td>0.0</td>\n",
              "      <td>0.0</td>\n",
              "      <td>0.0</td>\n",
              "    </tr>\n",
              "    <tr>\n",
              "      <th>가나슈마카롱</th>\n",
              "      <td>0.0</td>\n",
              "      <td>0.0</td>\n",
              "      <td>1.0</td>\n",
              "      <td>0.0</td>\n",
              "      <td>0.0</td>\n",
              "      <td>0.000000</td>\n",
              "      <td>0.0</td>\n",
              "      <td>0.0</td>\n",
              "      <td>0.0</td>\n",
              "      <td>0.0</td>\n",
              "      <td>0.0</td>\n",
              "      <td>0.000000</td>\n",
              "      <td>0.0</td>\n",
              "      <td>0.000000</td>\n",
              "      <td>0.0</td>\n",
              "      <td>0.0</td>\n",
              "      <td>0.0</td>\n",
              "      <td>0.0</td>\n",
              "      <td>0.0</td>\n",
              "      <td>0.000000</td>\n",
              "      <td>0.0</td>\n",
              "      <td>0.0</td>\n",
              "      <td>0.0</td>\n",
              "      <td>0.0</td>\n",
              "      <td>0.0</td>\n",
              "      <td>0.0</td>\n",
              "      <td>0.000000</td>\n",
              "      <td>0.0</td>\n",
              "      <td>0.0</td>\n",
              "      <td>0.0</td>\n",
              "      <td>0.0</td>\n",
              "      <td>0.0</td>\n",
              "      <td>0.000000</td>\n",
              "      <td>0.000000</td>\n",
              "      <td>0.0</td>\n",
              "      <td>0.0</td>\n",
              "      <td>0.0</td>\n",
              "      <td>0.0</td>\n",
              "      <td>0.0</td>\n",
              "      <td>0.0</td>\n",
              "      <td>...</td>\n",
              "      <td>0.0</td>\n",
              "      <td>0.0</td>\n",
              "      <td>0.0</td>\n",
              "      <td>0.000000</td>\n",
              "      <td>0.0</td>\n",
              "      <td>0.0</td>\n",
              "      <td>0.0</td>\n",
              "      <td>0.0</td>\n",
              "      <td>0.0</td>\n",
              "      <td>0.0</td>\n",
              "      <td>0.0</td>\n",
              "      <td>0.0</td>\n",
              "      <td>0.0</td>\n",
              "      <td>0.0</td>\n",
              "      <td>0.0</td>\n",
              "      <td>0.0</td>\n",
              "      <td>0.0</td>\n",
              "      <td>0.0</td>\n",
              "      <td>0.000000</td>\n",
              "      <td>0.000000</td>\n",
              "      <td>0.0</td>\n",
              "      <td>0.000000</td>\n",
              "      <td>0.0</td>\n",
              "      <td>0.0</td>\n",
              "      <td>0.0</td>\n",
              "      <td>0.0</td>\n",
              "      <td>0.0</td>\n",
              "      <td>0.0</td>\n",
              "      <td>0.0</td>\n",
              "      <td>0.0</td>\n",
              "      <td>0.0</td>\n",
              "      <td>0.000000</td>\n",
              "      <td>0.0</td>\n",
              "      <td>0.000000</td>\n",
              "      <td>0.000000</td>\n",
              "      <td>0.0</td>\n",
              "      <td>0.0</td>\n",
              "      <td>0.0</td>\n",
              "      <td>0.0</td>\n",
              "      <td>0.0</td>\n",
              "    </tr>\n",
              "    <tr>\n",
              "      <th>가나슈초코케이크</th>\n",
              "      <td>0.0</td>\n",
              "      <td>0.0</td>\n",
              "      <td>0.0</td>\n",
              "      <td>1.0</td>\n",
              "      <td>0.0</td>\n",
              "      <td>0.000000</td>\n",
              "      <td>0.0</td>\n",
              "      <td>0.0</td>\n",
              "      <td>0.0</td>\n",
              "      <td>0.0</td>\n",
              "      <td>0.0</td>\n",
              "      <td>0.000000</td>\n",
              "      <td>0.0</td>\n",
              "      <td>0.000000</td>\n",
              "      <td>0.0</td>\n",
              "      <td>0.0</td>\n",
              "      <td>0.0</td>\n",
              "      <td>0.0</td>\n",
              "      <td>0.0</td>\n",
              "      <td>0.000000</td>\n",
              "      <td>0.0</td>\n",
              "      <td>0.0</td>\n",
              "      <td>0.0</td>\n",
              "      <td>0.0</td>\n",
              "      <td>0.0</td>\n",
              "      <td>0.0</td>\n",
              "      <td>0.000000</td>\n",
              "      <td>0.0</td>\n",
              "      <td>0.0</td>\n",
              "      <td>0.0</td>\n",
              "      <td>0.0</td>\n",
              "      <td>0.0</td>\n",
              "      <td>0.000000</td>\n",
              "      <td>0.000000</td>\n",
              "      <td>0.0</td>\n",
              "      <td>0.0</td>\n",
              "      <td>0.0</td>\n",
              "      <td>0.0</td>\n",
              "      <td>0.0</td>\n",
              "      <td>0.0</td>\n",
              "      <td>...</td>\n",
              "      <td>0.0</td>\n",
              "      <td>0.0</td>\n",
              "      <td>0.0</td>\n",
              "      <td>0.000000</td>\n",
              "      <td>0.0</td>\n",
              "      <td>0.0</td>\n",
              "      <td>0.0</td>\n",
              "      <td>0.0</td>\n",
              "      <td>0.0</td>\n",
              "      <td>0.0</td>\n",
              "      <td>0.0</td>\n",
              "      <td>0.0</td>\n",
              "      <td>0.0</td>\n",
              "      <td>0.0</td>\n",
              "      <td>0.0</td>\n",
              "      <td>0.0</td>\n",
              "      <td>0.0</td>\n",
              "      <td>0.0</td>\n",
              "      <td>0.000000</td>\n",
              "      <td>0.000000</td>\n",
              "      <td>0.0</td>\n",
              "      <td>0.000000</td>\n",
              "      <td>0.0</td>\n",
              "      <td>0.0</td>\n",
              "      <td>0.0</td>\n",
              "      <td>0.0</td>\n",
              "      <td>0.0</td>\n",
              "      <td>0.0</td>\n",
              "      <td>0.0</td>\n",
              "      <td>0.0</td>\n",
              "      <td>0.0</td>\n",
              "      <td>0.000000</td>\n",
              "      <td>0.0</td>\n",
              "      <td>0.000000</td>\n",
              "      <td>0.000000</td>\n",
              "      <td>0.0</td>\n",
              "      <td>0.0</td>\n",
              "      <td>0.0</td>\n",
              "      <td>0.0</td>\n",
              "      <td>0.0</td>\n",
              "    </tr>\n",
              "    <tr>\n",
              "      <th>가라아게</th>\n",
              "      <td>0.0</td>\n",
              "      <td>0.0</td>\n",
              "      <td>0.0</td>\n",
              "      <td>0.0</td>\n",
              "      <td>1.0</td>\n",
              "      <td>0.031006</td>\n",
              "      <td>0.0</td>\n",
              "      <td>0.0</td>\n",
              "      <td>0.0</td>\n",
              "      <td>0.0</td>\n",
              "      <td>0.0</td>\n",
              "      <td>0.014771</td>\n",
              "      <td>0.0</td>\n",
              "      <td>0.025841</td>\n",
              "      <td>0.0</td>\n",
              "      <td>0.0</td>\n",
              "      <td>0.0</td>\n",
              "      <td>0.0</td>\n",
              "      <td>0.0</td>\n",
              "      <td>0.000000</td>\n",
              "      <td>0.0</td>\n",
              "      <td>0.0</td>\n",
              "      <td>0.0</td>\n",
              "      <td>0.0</td>\n",
              "      <td>0.0</td>\n",
              "      <td>0.0</td>\n",
              "      <td>0.000000</td>\n",
              "      <td>0.0</td>\n",
              "      <td>0.0</td>\n",
              "      <td>0.0</td>\n",
              "      <td>0.0</td>\n",
              "      <td>0.0</td>\n",
              "      <td>0.014884</td>\n",
              "      <td>0.007544</td>\n",
              "      <td>0.0</td>\n",
              "      <td>0.0</td>\n",
              "      <td>0.0</td>\n",
              "      <td>0.0</td>\n",
              "      <td>0.0</td>\n",
              "      <td>0.0</td>\n",
              "      <td>...</td>\n",
              "      <td>0.0</td>\n",
              "      <td>0.0</td>\n",
              "      <td>0.0</td>\n",
              "      <td>0.000000</td>\n",
              "      <td>0.0</td>\n",
              "      <td>0.0</td>\n",
              "      <td>0.0</td>\n",
              "      <td>0.0</td>\n",
              "      <td>0.0</td>\n",
              "      <td>0.0</td>\n",
              "      <td>0.0</td>\n",
              "      <td>0.0</td>\n",
              "      <td>0.0</td>\n",
              "      <td>0.0</td>\n",
              "      <td>0.0</td>\n",
              "      <td>0.0</td>\n",
              "      <td>0.0</td>\n",
              "      <td>0.0</td>\n",
              "      <td>0.013508</td>\n",
              "      <td>0.016740</td>\n",
              "      <td>0.0</td>\n",
              "      <td>0.031807</td>\n",
              "      <td>0.0</td>\n",
              "      <td>0.0</td>\n",
              "      <td>0.0</td>\n",
              "      <td>0.0</td>\n",
              "      <td>0.0</td>\n",
              "      <td>0.0</td>\n",
              "      <td>0.0</td>\n",
              "      <td>0.0</td>\n",
              "      <td>0.0</td>\n",
              "      <td>0.011643</td>\n",
              "      <td>0.0</td>\n",
              "      <td>0.020481</td>\n",
              "      <td>0.014414</td>\n",
              "      <td>0.0</td>\n",
              "      <td>0.0</td>\n",
              "      <td>0.0</td>\n",
              "      <td>0.0</td>\n",
              "      <td>0.0</td>\n",
              "    </tr>\n",
              "    <tr>\n",
              "      <th>...</th>\n",
              "      <td>...</td>\n",
              "      <td>...</td>\n",
              "      <td>...</td>\n",
              "      <td>...</td>\n",
              "      <td>...</td>\n",
              "      <td>...</td>\n",
              "      <td>...</td>\n",
              "      <td>...</td>\n",
              "      <td>...</td>\n",
              "      <td>...</td>\n",
              "      <td>...</td>\n",
              "      <td>...</td>\n",
              "      <td>...</td>\n",
              "      <td>...</td>\n",
              "      <td>...</td>\n",
              "      <td>...</td>\n",
              "      <td>...</td>\n",
              "      <td>...</td>\n",
              "      <td>...</td>\n",
              "      <td>...</td>\n",
              "      <td>...</td>\n",
              "      <td>...</td>\n",
              "      <td>...</td>\n",
              "      <td>...</td>\n",
              "      <td>...</td>\n",
              "      <td>...</td>\n",
              "      <td>...</td>\n",
              "      <td>...</td>\n",
              "      <td>...</td>\n",
              "      <td>...</td>\n",
              "      <td>...</td>\n",
              "      <td>...</td>\n",
              "      <td>...</td>\n",
              "      <td>...</td>\n",
              "      <td>...</td>\n",
              "      <td>...</td>\n",
              "      <td>...</td>\n",
              "      <td>...</td>\n",
              "      <td>...</td>\n",
              "      <td>...</td>\n",
              "      <td>...</td>\n",
              "      <td>...</td>\n",
              "      <td>...</td>\n",
              "      <td>...</td>\n",
              "      <td>...</td>\n",
              "      <td>...</td>\n",
              "      <td>...</td>\n",
              "      <td>...</td>\n",
              "      <td>...</td>\n",
              "      <td>...</td>\n",
              "      <td>...</td>\n",
              "      <td>...</td>\n",
              "      <td>...</td>\n",
              "      <td>...</td>\n",
              "      <td>...</td>\n",
              "      <td>...</td>\n",
              "      <td>...</td>\n",
              "      <td>...</td>\n",
              "      <td>...</td>\n",
              "      <td>...</td>\n",
              "      <td>...</td>\n",
              "      <td>...</td>\n",
              "      <td>...</td>\n",
              "      <td>...</td>\n",
              "      <td>...</td>\n",
              "      <td>...</td>\n",
              "      <td>...</td>\n",
              "      <td>...</td>\n",
              "      <td>...</td>\n",
              "      <td>...</td>\n",
              "      <td>...</td>\n",
              "      <td>...</td>\n",
              "      <td>...</td>\n",
              "      <td>...</td>\n",
              "      <td>...</td>\n",
              "      <td>...</td>\n",
              "      <td>...</td>\n",
              "      <td>...</td>\n",
              "      <td>...</td>\n",
              "      <td>...</td>\n",
              "      <td>...</td>\n",
              "    </tr>\n",
              "    <tr>\n",
              "      <th>훈제오리야채볶음밥</th>\n",
              "      <td>0.0</td>\n",
              "      <td>0.0</td>\n",
              "      <td>0.0</td>\n",
              "      <td>0.0</td>\n",
              "      <td>0.0</td>\n",
              "      <td>0.000000</td>\n",
              "      <td>0.0</td>\n",
              "      <td>0.0</td>\n",
              "      <td>0.0</td>\n",
              "      <td>0.0</td>\n",
              "      <td>0.0</td>\n",
              "      <td>0.000000</td>\n",
              "      <td>0.0</td>\n",
              "      <td>0.000000</td>\n",
              "      <td>0.0</td>\n",
              "      <td>0.0</td>\n",
              "      <td>0.0</td>\n",
              "      <td>0.0</td>\n",
              "      <td>0.0</td>\n",
              "      <td>0.000000</td>\n",
              "      <td>0.0</td>\n",
              "      <td>0.0</td>\n",
              "      <td>0.0</td>\n",
              "      <td>0.0</td>\n",
              "      <td>0.0</td>\n",
              "      <td>0.0</td>\n",
              "      <td>0.000000</td>\n",
              "      <td>0.0</td>\n",
              "      <td>0.0</td>\n",
              "      <td>0.0</td>\n",
              "      <td>0.0</td>\n",
              "      <td>0.0</td>\n",
              "      <td>0.000000</td>\n",
              "      <td>0.000000</td>\n",
              "      <td>0.0</td>\n",
              "      <td>0.0</td>\n",
              "      <td>0.0</td>\n",
              "      <td>0.0</td>\n",
              "      <td>0.0</td>\n",
              "      <td>0.0</td>\n",
              "      <td>...</td>\n",
              "      <td>0.0</td>\n",
              "      <td>0.0</td>\n",
              "      <td>0.0</td>\n",
              "      <td>0.000000</td>\n",
              "      <td>0.0</td>\n",
              "      <td>0.0</td>\n",
              "      <td>0.0</td>\n",
              "      <td>0.0</td>\n",
              "      <td>0.0</td>\n",
              "      <td>0.0</td>\n",
              "      <td>0.0</td>\n",
              "      <td>0.0</td>\n",
              "      <td>0.0</td>\n",
              "      <td>0.0</td>\n",
              "      <td>0.0</td>\n",
              "      <td>0.0</td>\n",
              "      <td>0.0</td>\n",
              "      <td>0.0</td>\n",
              "      <td>0.000000</td>\n",
              "      <td>0.000000</td>\n",
              "      <td>0.0</td>\n",
              "      <td>0.000000</td>\n",
              "      <td>0.0</td>\n",
              "      <td>0.0</td>\n",
              "      <td>0.0</td>\n",
              "      <td>0.0</td>\n",
              "      <td>0.0</td>\n",
              "      <td>0.0</td>\n",
              "      <td>0.0</td>\n",
              "      <td>0.0</td>\n",
              "      <td>0.0</td>\n",
              "      <td>0.000000</td>\n",
              "      <td>0.0</td>\n",
              "      <td>0.284007</td>\n",
              "      <td>0.000000</td>\n",
              "      <td>1.0</td>\n",
              "      <td>0.0</td>\n",
              "      <td>0.0</td>\n",
              "      <td>0.0</td>\n",
              "      <td>0.0</td>\n",
              "    </tr>\n",
              "    <tr>\n",
              "      <th>훈제오리월남쌈</th>\n",
              "      <td>0.0</td>\n",
              "      <td>0.0</td>\n",
              "      <td>0.0</td>\n",
              "      <td>0.0</td>\n",
              "      <td>0.0</td>\n",
              "      <td>0.000000</td>\n",
              "      <td>0.0</td>\n",
              "      <td>0.0</td>\n",
              "      <td>0.0</td>\n",
              "      <td>0.0</td>\n",
              "      <td>0.0</td>\n",
              "      <td>0.000000</td>\n",
              "      <td>0.0</td>\n",
              "      <td>0.000000</td>\n",
              "      <td>0.0</td>\n",
              "      <td>0.0</td>\n",
              "      <td>0.0</td>\n",
              "      <td>0.0</td>\n",
              "      <td>0.0</td>\n",
              "      <td>0.000000</td>\n",
              "      <td>0.0</td>\n",
              "      <td>0.0</td>\n",
              "      <td>0.0</td>\n",
              "      <td>0.0</td>\n",
              "      <td>0.0</td>\n",
              "      <td>0.0</td>\n",
              "      <td>0.054722</td>\n",
              "      <td>0.0</td>\n",
              "      <td>0.0</td>\n",
              "      <td>0.0</td>\n",
              "      <td>0.0</td>\n",
              "      <td>0.0</td>\n",
              "      <td>0.000000</td>\n",
              "      <td>0.000000</td>\n",
              "      <td>0.0</td>\n",
              "      <td>0.0</td>\n",
              "      <td>0.0</td>\n",
              "      <td>0.0</td>\n",
              "      <td>0.0</td>\n",
              "      <td>0.0</td>\n",
              "      <td>...</td>\n",
              "      <td>0.0</td>\n",
              "      <td>0.0</td>\n",
              "      <td>0.0</td>\n",
              "      <td>0.210166</td>\n",
              "      <td>0.0</td>\n",
              "      <td>0.0</td>\n",
              "      <td>0.0</td>\n",
              "      <td>0.0</td>\n",
              "      <td>0.0</td>\n",
              "      <td>0.0</td>\n",
              "      <td>0.0</td>\n",
              "      <td>0.0</td>\n",
              "      <td>0.0</td>\n",
              "      <td>0.0</td>\n",
              "      <td>0.0</td>\n",
              "      <td>0.0</td>\n",
              "      <td>0.0</td>\n",
              "      <td>0.0</td>\n",
              "      <td>0.000000</td>\n",
              "      <td>0.000000</td>\n",
              "      <td>0.0</td>\n",
              "      <td>0.000000</td>\n",
              "      <td>0.0</td>\n",
              "      <td>0.0</td>\n",
              "      <td>0.0</td>\n",
              "      <td>0.0</td>\n",
              "      <td>0.0</td>\n",
              "      <td>0.0</td>\n",
              "      <td>0.0</td>\n",
              "      <td>0.0</td>\n",
              "      <td>0.0</td>\n",
              "      <td>0.020883</td>\n",
              "      <td>0.0</td>\n",
              "      <td>0.000000</td>\n",
              "      <td>0.000000</td>\n",
              "      <td>0.0</td>\n",
              "      <td>1.0</td>\n",
              "      <td>0.0</td>\n",
              "      <td>0.0</td>\n",
              "      <td>0.0</td>\n",
              "    </tr>\n",
              "    <tr>\n",
              "      <th>훈제오리해파리냉채</th>\n",
              "      <td>0.0</td>\n",
              "      <td>0.0</td>\n",
              "      <td>0.0</td>\n",
              "      <td>0.0</td>\n",
              "      <td>0.0</td>\n",
              "      <td>0.000000</td>\n",
              "      <td>0.0</td>\n",
              "      <td>0.0</td>\n",
              "      <td>0.0</td>\n",
              "      <td>0.0</td>\n",
              "      <td>0.0</td>\n",
              "      <td>0.000000</td>\n",
              "      <td>0.0</td>\n",
              "      <td>0.000000</td>\n",
              "      <td>0.0</td>\n",
              "      <td>0.0</td>\n",
              "      <td>0.0</td>\n",
              "      <td>0.0</td>\n",
              "      <td>0.0</td>\n",
              "      <td>0.000000</td>\n",
              "      <td>0.0</td>\n",
              "      <td>0.0</td>\n",
              "      <td>0.0</td>\n",
              "      <td>0.0</td>\n",
              "      <td>0.0</td>\n",
              "      <td>0.0</td>\n",
              "      <td>0.000000</td>\n",
              "      <td>0.0</td>\n",
              "      <td>0.0</td>\n",
              "      <td>0.0</td>\n",
              "      <td>0.0</td>\n",
              "      <td>0.0</td>\n",
              "      <td>0.000000</td>\n",
              "      <td>0.000000</td>\n",
              "      <td>0.0</td>\n",
              "      <td>0.0</td>\n",
              "      <td>0.0</td>\n",
              "      <td>0.0</td>\n",
              "      <td>0.0</td>\n",
              "      <td>0.0</td>\n",
              "      <td>...</td>\n",
              "      <td>0.0</td>\n",
              "      <td>0.0</td>\n",
              "      <td>0.0</td>\n",
              "      <td>0.000000</td>\n",
              "      <td>0.0</td>\n",
              "      <td>0.0</td>\n",
              "      <td>0.0</td>\n",
              "      <td>0.0</td>\n",
              "      <td>0.0</td>\n",
              "      <td>0.0</td>\n",
              "      <td>0.0</td>\n",
              "      <td>0.0</td>\n",
              "      <td>0.0</td>\n",
              "      <td>0.0</td>\n",
              "      <td>0.0</td>\n",
              "      <td>0.0</td>\n",
              "      <td>0.0</td>\n",
              "      <td>0.0</td>\n",
              "      <td>0.000000</td>\n",
              "      <td>0.000000</td>\n",
              "      <td>0.0</td>\n",
              "      <td>0.000000</td>\n",
              "      <td>0.0</td>\n",
              "      <td>0.0</td>\n",
              "      <td>0.0</td>\n",
              "      <td>0.0</td>\n",
              "      <td>0.0</td>\n",
              "      <td>0.0</td>\n",
              "      <td>0.0</td>\n",
              "      <td>0.0</td>\n",
              "      <td>0.0</td>\n",
              "      <td>0.000000</td>\n",
              "      <td>0.0</td>\n",
              "      <td>0.000000</td>\n",
              "      <td>0.032239</td>\n",
              "      <td>0.0</td>\n",
              "      <td>0.0</td>\n",
              "      <td>1.0</td>\n",
              "      <td>0.0</td>\n",
              "      <td>0.0</td>\n",
              "    </tr>\n",
              "    <tr>\n",
              "      <th>흑당카페라떼</th>\n",
              "      <td>0.0</td>\n",
              "      <td>0.0</td>\n",
              "      <td>0.0</td>\n",
              "      <td>0.0</td>\n",
              "      <td>0.0</td>\n",
              "      <td>0.000000</td>\n",
              "      <td>0.0</td>\n",
              "      <td>0.0</td>\n",
              "      <td>0.0</td>\n",
              "      <td>0.0</td>\n",
              "      <td>0.0</td>\n",
              "      <td>0.000000</td>\n",
              "      <td>0.0</td>\n",
              "      <td>0.000000</td>\n",
              "      <td>0.0</td>\n",
              "      <td>0.0</td>\n",
              "      <td>0.0</td>\n",
              "      <td>0.0</td>\n",
              "      <td>0.0</td>\n",
              "      <td>0.000000</td>\n",
              "      <td>0.0</td>\n",
              "      <td>0.0</td>\n",
              "      <td>0.0</td>\n",
              "      <td>0.0</td>\n",
              "      <td>0.0</td>\n",
              "      <td>0.0</td>\n",
              "      <td>0.000000</td>\n",
              "      <td>0.0</td>\n",
              "      <td>0.0</td>\n",
              "      <td>0.0</td>\n",
              "      <td>0.0</td>\n",
              "      <td>0.0</td>\n",
              "      <td>0.000000</td>\n",
              "      <td>0.000000</td>\n",
              "      <td>0.0</td>\n",
              "      <td>0.0</td>\n",
              "      <td>0.0</td>\n",
              "      <td>0.0</td>\n",
              "      <td>0.0</td>\n",
              "      <td>0.0</td>\n",
              "      <td>...</td>\n",
              "      <td>0.0</td>\n",
              "      <td>0.0</td>\n",
              "      <td>0.0</td>\n",
              "      <td>0.000000</td>\n",
              "      <td>0.0</td>\n",
              "      <td>0.0</td>\n",
              "      <td>0.0</td>\n",
              "      <td>0.0</td>\n",
              "      <td>0.0</td>\n",
              "      <td>0.0</td>\n",
              "      <td>0.0</td>\n",
              "      <td>0.0</td>\n",
              "      <td>0.0</td>\n",
              "      <td>0.0</td>\n",
              "      <td>0.0</td>\n",
              "      <td>0.0</td>\n",
              "      <td>0.0</td>\n",
              "      <td>0.0</td>\n",
              "      <td>0.000000</td>\n",
              "      <td>0.000000</td>\n",
              "      <td>0.0</td>\n",
              "      <td>0.000000</td>\n",
              "      <td>0.0</td>\n",
              "      <td>0.0</td>\n",
              "      <td>0.0</td>\n",
              "      <td>0.0</td>\n",
              "      <td>0.0</td>\n",
              "      <td>0.0</td>\n",
              "      <td>0.0</td>\n",
              "      <td>0.0</td>\n",
              "      <td>0.0</td>\n",
              "      <td>0.000000</td>\n",
              "      <td>0.0</td>\n",
              "      <td>0.000000</td>\n",
              "      <td>0.000000</td>\n",
              "      <td>0.0</td>\n",
              "      <td>0.0</td>\n",
              "      <td>0.0</td>\n",
              "      <td>1.0</td>\n",
              "      <td>0.0</td>\n",
              "    </tr>\n",
              "    <tr>\n",
              "      <th>흑임자연근샐러드</th>\n",
              "      <td>0.0</td>\n",
              "      <td>0.0</td>\n",
              "      <td>0.0</td>\n",
              "      <td>0.0</td>\n",
              "      <td>0.0</td>\n",
              "      <td>0.000000</td>\n",
              "      <td>0.0</td>\n",
              "      <td>0.0</td>\n",
              "      <td>0.0</td>\n",
              "      <td>0.0</td>\n",
              "      <td>0.0</td>\n",
              "      <td>0.000000</td>\n",
              "      <td>0.0</td>\n",
              "      <td>0.000000</td>\n",
              "      <td>0.0</td>\n",
              "      <td>0.0</td>\n",
              "      <td>0.0</td>\n",
              "      <td>0.0</td>\n",
              "      <td>0.0</td>\n",
              "      <td>0.000000</td>\n",
              "      <td>0.0</td>\n",
              "      <td>0.0</td>\n",
              "      <td>0.0</td>\n",
              "      <td>0.0</td>\n",
              "      <td>0.0</td>\n",
              "      <td>0.0</td>\n",
              "      <td>0.000000</td>\n",
              "      <td>0.0</td>\n",
              "      <td>0.0</td>\n",
              "      <td>0.0</td>\n",
              "      <td>0.0</td>\n",
              "      <td>0.0</td>\n",
              "      <td>0.000000</td>\n",
              "      <td>0.000000</td>\n",
              "      <td>0.0</td>\n",
              "      <td>0.0</td>\n",
              "      <td>0.0</td>\n",
              "      <td>0.0</td>\n",
              "      <td>0.0</td>\n",
              "      <td>0.0</td>\n",
              "      <td>...</td>\n",
              "      <td>0.0</td>\n",
              "      <td>0.0</td>\n",
              "      <td>0.0</td>\n",
              "      <td>0.000000</td>\n",
              "      <td>0.0</td>\n",
              "      <td>0.0</td>\n",
              "      <td>0.0</td>\n",
              "      <td>0.0</td>\n",
              "      <td>0.0</td>\n",
              "      <td>0.0</td>\n",
              "      <td>0.0</td>\n",
              "      <td>0.0</td>\n",
              "      <td>0.0</td>\n",
              "      <td>0.0</td>\n",
              "      <td>0.0</td>\n",
              "      <td>0.0</td>\n",
              "      <td>0.0</td>\n",
              "      <td>0.0</td>\n",
              "      <td>0.000000</td>\n",
              "      <td>0.000000</td>\n",
              "      <td>0.0</td>\n",
              "      <td>0.000000</td>\n",
              "      <td>0.0</td>\n",
              "      <td>0.0</td>\n",
              "      <td>0.0</td>\n",
              "      <td>0.0</td>\n",
              "      <td>0.0</td>\n",
              "      <td>0.0</td>\n",
              "      <td>0.0</td>\n",
              "      <td>0.0</td>\n",
              "      <td>0.0</td>\n",
              "      <td>0.000000</td>\n",
              "      <td>0.0</td>\n",
              "      <td>0.000000</td>\n",
              "      <td>0.000000</td>\n",
              "      <td>0.0</td>\n",
              "      <td>0.0</td>\n",
              "      <td>0.0</td>\n",
              "      <td>0.0</td>\n",
              "      <td>1.0</td>\n",
              "    </tr>\n",
              "  </tbody>\n",
              "</table>\n",
              "<p>3601 rows × 3601 columns</p>\n",
              "</div>"
            ],
            "text/plain": [
              "                 BLT샌드위치  LA찹쌀떡  가나슈마카롱  ...  훈제오리해파리냉채  흑당카페라떼  흑임자연근샐러드\n",
              "recipe_category                          ...                             \n",
              "BLT샌드위치              1.0    0.0     0.0  ...        0.0     0.0       0.0\n",
              "LA찹쌀떡                0.0    1.0     0.0  ...        0.0     0.0       0.0\n",
              "가나슈마카롱               0.0    0.0     1.0  ...        0.0     0.0       0.0\n",
              "가나슈초코케이크             0.0    0.0     0.0  ...        0.0     0.0       0.0\n",
              "가라아게                 0.0    0.0     0.0  ...        0.0     0.0       0.0\n",
              "...                  ...    ...     ...  ...        ...     ...       ...\n",
              "훈제오리야채볶음밥            0.0    0.0     0.0  ...        0.0     0.0       0.0\n",
              "훈제오리월남쌈              0.0    0.0     0.0  ...        0.0     0.0       0.0\n",
              "훈제오리해파리냉채            0.0    0.0     0.0  ...        1.0     0.0       0.0\n",
              "흑당카페라떼               0.0    0.0     0.0  ...        0.0     1.0       0.0\n",
              "흑임자연근샐러드             0.0    0.0     0.0  ...        0.0     0.0       1.0\n",
              "\n",
              "[3601 rows x 3601 columns]"
            ]
          },
          "metadata": {},
          "execution_count": 129
        }
      ]
    },
    {
      "cell_type": "code",
      "metadata": {
        "colab": {
          "base_uri": "https://localhost:8080/"
        },
        "id": "Zc_CaPCa9YLd",
        "outputId": "94ed1d33-0f33-4acc-d8aa-869bdd72f29d"
      },
      "source": [
        "import random\n",
        "\n",
        "collaborated = collaborated.set_index('recipe_category')\n",
        "\n",
        "#유저의 선호 카테고리 가져오기 : 추후 구현\n",
        "#def getUserWishCategroy(userId): \n",
        "# return category \n",
        "\n",
        "\n",
        "#유저의 선호 카테고리의 상위 3~5개의 카테고리를 반환\n",
        "def is_topCategory(collaborated,wishCategory):\n",
        "  isTopCategory = collaborated[wishCategory] >=0.2 #유사도 0.4이상은 너무 적다.. 고려해야할 사항 : 유사도를 낮추거나 기본레시피리스트가 필요\n",
        "  categoryList = collaborated[isTopCategory]\n",
        "  categoryList = categoryList.index.to_list()  \n",
        "  return categoryList #list\n",
        "\n",
        "#해당 카테고리의 레시피 rId 반환\n",
        "def is_recipes(recipeData,categoryNames): #list\n",
        "  ridList = []\n",
        "  for item in categoryNames:\n",
        "    datas = recipeData['recipe_category'] == item\n",
        "    newRecipes = recipeData[datas]\n",
        "    newRid = newRecipes['rId']\n",
        "    newRid = newRid.to_list()\n",
        "    ridList += newRid\n",
        "  return ridList #list\n",
        "\n",
        "#시작\n",
        "# userId\n",
        "# wishCategory = getUserWishCategory(userId)\n",
        "wishCategory = \"가나슈마카롱\" # getUserWishCategory를 해야한다. 편의를 위해 임의로 넣어둠.\n",
        "categories = is_topCategory(collaborated,wishCategory)\n",
        "recipeList = is_recipes(recipeData,categories)\n",
        "\n",
        "#임의로 셔플\n",
        "random.shuffle(recipeList)\n",
        "\n",
        "#100개보다도 작은 rId개수가 나올 경우 추가로 랜덤한 레시피를 추가해주자.\n",
        "print(len(recipeList))\n",
        "print(recipeList) #recipeList를 전달하고 해당되는 레시피를 클라이언트로 전달. 여기서는 출력만 해봄."
      ],
      "execution_count": null,
      "outputs": [
        {
          "output_type": "stream",
          "name": "stdout",
          "text": [
            "51\n",
            "[140819, 162793, 180243, 180248, 180256, 180254, 180250, 180245, 162795, 162797, 162792, 141008, 140814, 162789, 180249, 180240, 180257, 162800, 140815, 141007, 180239, 162790, 162799, 180242, 140818, 162791, 140830, 162803, 140823, 180244, 162806, 162788, 140813, 180241, 162798, 140824, 140821, 180246, 141006, 162796, 140828, 180247, 140816, 140825, 162794, 180251, 162805, 140831, 140817, 140820, 140822]\n"
          ]
        }
      ]
    },
    {
      "cell_type": "markdown",
      "metadata": {
        "id": "-GR_-IrlJk57"
      },
      "source": [
        "#**타입변환**"
      ]
    },
    {
      "cell_type": "markdown",
      "metadata": {
        "id": "qA3qk-zntw7G"
      },
      "source": [
        "#**recipeData : CP949 전처리**"
      ]
    },
    {
      "cell_type": "code",
      "metadata": {
        "id": "rTGXq6S_RKPj"
      },
      "source": [
        "recipeData = pd.read_csv('recipeData.csv',encoding='utf-8-sig')"
      ],
      "execution_count": null,
      "outputs": []
    },
    {
      "cell_type": "code",
      "metadata": {
        "id": "tMn6-jHaJthv"
      },
      "source": [
        "recipeData =  recipeData.drop(['Unnamed: 0'],axis= 1)"
      ],
      "execution_count": null,
      "outputs": []
    },
    {
      "cell_type": "code",
      "metadata": {
        "id": "Ugm6aRCLPjsp"
      },
      "source": [
        "recipeData = recipeData.drop_duplicates(['recipe_title','menu_img'],keep= 'first')"
      ],
      "execution_count": null,
      "outputs": []
    },
    {
      "cell_type": "code",
      "metadata": {
        "id": "5tuHITcVIuaf"
      },
      "source": [
        "recipeData.to_csv('RecipeData.csv',encoding = 'CP949')"
      ],
      "execution_count": null,
      "outputs": []
    },
    {
      "cell_type": "code",
      "metadata": {
        "id": "TCebjzF1vlg5"
      },
      "source": [
        "recipeData = pd.read_csv('RecipeData.csv',encoding='cp949')"
      ],
      "execution_count": null,
      "outputs": []
    },
    {
      "cell_type": "code",
      "metadata": {
        "id": "nid35XzBvsih"
      },
      "source": [
        "recipeData = recipeData.drop(['Unnamed: 0'],axis= 1)"
      ],
      "execution_count": null,
      "outputs": []
    },
    {
      "cell_type": "code",
      "metadata": {
        "id": "hgdZWHAMvxKU"
      },
      "source": [
        "recipeData = recipeData[recipeData['recipe_title'] != '#NAME?']"
      ],
      "execution_count": null,
      "outputs": []
    },
    {
      "cell_type": "code",
      "metadata": {
        "id": "gMTCVVBoyfn1"
      },
      "source": [
        "recipeData.to_csv('Recipick_RecipeData.csv',encoding='cp949')"
      ],
      "execution_count": null,
      "outputs": []
    },
    {
      "cell_type": "code",
      "metadata": {
        "colab": {
          "base_uri": "https://localhost:8080/",
          "height": 589
        },
        "id": "dC0k43eU_9IB",
        "outputId": "e7d7083f-29ea-4a89-ca97-472d6c317d26"
      },
      "source": [
        "recipeData.head(98237)"
      ],
      "execution_count": null,
      "outputs": [
        {
          "output_type": "execute_result",
          "data": {
            "text/html": [
              "<div>\n",
              "<style scoped>\n",
              "    .dataframe tbody tr th:only-of-type {\n",
              "        vertical-align: middle;\n",
              "    }\n",
              "\n",
              "    .dataframe tbody tr th {\n",
              "        vertical-align: top;\n",
              "    }\n",
              "\n",
              "    .dataframe thead th {\n",
              "        text-align: right;\n",
              "    }\n",
              "</style>\n",
              "<table border=\"1\" class=\"dataframe\">\n",
              "  <thead>\n",
              "    <tr style=\"text-align: right;\">\n",
              "      <th></th>\n",
              "      <th>rId</th>\n",
              "      <th>recipe_title</th>\n",
              "      <th>serving</th>\n",
              "      <th>coockingTime</th>\n",
              "      <th>difficult</th>\n",
              "      <th>recipe_source</th>\n",
              "      <th>menu_img</th>\n",
              "      <th>recipe_category</th>\n",
              "    </tr>\n",
              "  </thead>\n",
              "  <tbody>\n",
              "    <tr>\n",
              "      <th>0</th>\n",
              "      <td>1</td>\n",
              "      <td>집밥백선생 백종원의 참치김치볶음밥 황금레시피!!</td>\n",
              "      <td>2인분</td>\n",
              "      <td>15분 이내</td>\n",
              "      <td>아무나</td>\n",
              "      <td>밥,묵은지,참치,대파,계란후라이,간 마늘,고춧가루,설탕,간장,식용유</td>\n",
              "      <td>https://recipe1.ezmember.co.kr/cache/recipe/20...</td>\n",
              "      <td>참치김치볶음밥</td>\n",
              "    </tr>\n",
              "    <tr>\n",
              "      <th>1</th>\n",
              "      <td>2</td>\n",
              "      <td>백종원 참치김치볶음밥 한그릇 요리로 딱이지 ♪</td>\n",
              "      <td>2인분</td>\n",
              "      <td>10분 이내</td>\n",
              "      <td>아무나</td>\n",
              "      <td>김치,참치,대파,식용유,간장,설탕,참기름,밥</td>\n",
              "      <td>https://recipe1.ezmember.co.kr/cache/recipe/20...</td>\n",
              "      <td>참치김치볶음밥</td>\n",
              "    </tr>\n",
              "    <tr>\n",
              "      <th>2</th>\n",
              "      <td>3</td>\n",
              "      <td>참치김치볶음밥 / 참치계란말이밥</td>\n",
              "      <td>2인분</td>\n",
              "      <td>60분 이내</td>\n",
              "      <td>아무나</td>\n",
              "      <td>참치 캔,신 김치,밥,대파,식용유,달걀,체더치즈,설탕,간장,참기름,통깨</td>\n",
              "      <td>https://recipe1.ezmember.co.kr/cache/recipe/20...</td>\n",
              "      <td>참치김치볶음밥</td>\n",
              "    </tr>\n",
              "    <tr>\n",
              "      <th>3</th>\n",
              "      <td>4</td>\n",
              "      <td>한그릇 인기메뉴 ,, 백종원 참치김치볶음밥 황금레시피</td>\n",
              "      <td>1인분</td>\n",
              "      <td>15분 이내</td>\n",
              "      <td>아무나</td>\n",
              "      <td>참치,밥,고추가루,진간장,김치,마늘,다진파,설탕</td>\n",
              "      <td>https://recipe1.ezmember.co.kr/cache/recipe/20...</td>\n",
              "      <td>참치김치볶음밥</td>\n",
              "    </tr>\n",
              "    <tr>\n",
              "      <th>4</th>\n",
              "      <td>5</td>\n",
              "      <td>참치김치볶음 만들기 만만한 밥반찬!</td>\n",
              "      <td>1인분</td>\n",
              "      <td>30분 이내</td>\n",
              "      <td>아무나</td>\n",
              "      <td>참치 1봉 or,묵은지,양파,대파,설탕,고춧가루,참기름</td>\n",
              "      <td>https://recipe1.ezmember.co.kr/cache/recipe/20...</td>\n",
              "      <td>참치김치볶음밥</td>\n",
              "    </tr>\n",
              "    <tr>\n",
              "      <th>...</th>\n",
              "      <td>...</td>\n",
              "      <td>...</td>\n",
              "      <td>...</td>\n",
              "      <td>...</td>\n",
              "      <td>...</td>\n",
              "      <td>...</td>\n",
              "      <td>...</td>\n",
              "      <td>...</td>\n",
              "    </tr>\n",
              "    <tr>\n",
              "      <th>98241</th>\n",
              "      <td>109734</td>\n",
              "      <td>삼겹살 김치말이찜 만들기</td>\n",
              "      <td>3인분</td>\n",
              "      <td>60분 이내</td>\n",
              "      <td>초급</td>\n",
              "      <td>삼겹살,김치,양파,쌀뜨물,김치국물,후추,파,: 고춧가루,간장,다진마늘</td>\n",
              "      <td>https://recipe1.ezmember.co.kr/cache/recipe/20...</td>\n",
              "      <td>삼겹살김치찜</td>\n",
              "    </tr>\n",
              "    <tr>\n",
              "      <th>98242</th>\n",
              "      <td>109736</td>\n",
              "      <td>삼겹살 김치찜 + 중국당면</td>\n",
              "      <td>6인분 이상</td>\n",
              "      <td>60분 이내</td>\n",
              "      <td>초급</td>\n",
              "      <td>양파,삼겹살,대파,마늘,김치,청양고추,고춧가루 큰,후추,설탕,간장,소금,미림,멸치액젓</td>\n",
              "      <td>https://recipe1.ezmember.co.kr/cache/recipe/20...</td>\n",
              "      <td>삼겹살김치찜</td>\n",
              "    </tr>\n",
              "    <tr>\n",
              "      <th>98243</th>\n",
              "      <td>109737</td>\n",
              "      <td>특별한 양념 없어도 맛은 일품~ 삼겹살 김치찜 (찌개)</td>\n",
              "      <td>5인분</td>\n",
              "      <td>60분 이내</td>\n",
              "      <td>아무나</td>\n",
              "      <td>묵은지,삼겹살,(한근 반,양파,대파,홍고추,멸치 다시육수,맛술</td>\n",
              "      <td>https://recipe1.ezmember.co.kr/cache/recipe/20...</td>\n",
              "      <td>삼겹살김치찜</td>\n",
              "    </tr>\n",
              "    <tr>\n",
              "      <th>98244</th>\n",
              "      <td>109738</td>\n",
              "      <td>삼겹살 묵은지 말이 김치찜 만들기</td>\n",
              "      <td>2인분</td>\n",
              "      <td>60분 이내</td>\n",
              "      <td>초급</td>\n",
              "      <td>묵은지,묵은지 국물,멸치육수,양파,대파,청고추,홍고추,삼겹살</td>\n",
              "      <td>https://recipe1.ezmember.co.kr/cache/recipe/20...</td>\n",
              "      <td>삼겹살김치찜</td>\n",
              "    </tr>\n",
              "    <tr>\n",
              "      <th>98245</th>\n",
              "      <td>109739</td>\n",
              "      <td>(집에서 즐기는 술안주) 통삼겹김치찜 / 삼겹살김치찜 - 손님접대 요리</td>\n",
              "      <td>2인분</td>\n",
              "      <td>90분 이내</td>\n",
              "      <td>초급</td>\n",
              "      <td>삼겹살,김치,양파,대파,청양고추,다시마,멸치,물,- 또는 시판,김치 국물,고춧가루,...</td>\n",
              "      <td>https://recipe1.ezmember.co.kr/cache/recipe/20...</td>\n",
              "      <td>삼겹살김치찜</td>\n",
              "    </tr>\n",
              "  </tbody>\n",
              "</table>\n",
              "<p>98237 rows × 8 columns</p>\n",
              "</div>"
            ],
            "text/plain": [
              "          rId  ... recipe_category\n",
              "0           1  ...         참치김치볶음밥\n",
              "1           2  ...         참치김치볶음밥\n",
              "2           3  ...         참치김치볶음밥\n",
              "3           4  ...         참치김치볶음밥\n",
              "4           5  ...         참치김치볶음밥\n",
              "...       ...  ...             ...\n",
              "98241  109734  ...          삼겹살김치찜\n",
              "98242  109736  ...          삼겹살김치찜\n",
              "98243  109737  ...          삼겹살김치찜\n",
              "98244  109738  ...          삼겹살김치찜\n",
              "98245  109739  ...          삼겹살김치찜\n",
              "\n",
              "[98237 rows x 8 columns]"
            ]
          },
          "metadata": {},
          "execution_count": 44
        }
      ]
    },
    {
      "cell_type": "markdown",
      "metadata": {
        "id": "J2CDeY-ut53e"
      },
      "source": [
        "#**recipeOrder: CP949 전처리**"
      ]
    },
    {
      "cell_type": "code",
      "metadata": {
        "id": "lPjVyOZQuAZr"
      },
      "source": [
        "recipeOrder1 = pd.read_csv('RecipeOrder01.csv',encoding='utf-8-sig')\n",
        "recipeOrder2 = pd.read_csv('recipeOrder02.csv',encoding='utf-8-sig')"
      ],
      "execution_count": null,
      "outputs": []
    },
    {
      "cell_type": "code",
      "metadata": {
        "id": "7XAo6ME73gPi"
      },
      "source": [
        "recipeOrder1 =  recipeOrder1.drop(['Unnamed: 0'],axis= 1)\n",
        "recipeOrder2 = recipeOrder2.drop(['Unnamed: 0'],axis= 1)"
      ],
      "execution_count": null,
      "outputs": []
    },
    {
      "cell_type": "code",
      "metadata": {
        "id": "QMN2xO3CvP2Z"
      },
      "source": [
        "recipeOrder1.to_csv('RecipeOrder1.csv',encoding= 'CP949')\n",
        "recipeOrder2.to_csv('RecipeOrder2.csv',encoding= 'CP949')"
      ],
      "execution_count": null,
      "outputs": []
    },
    {
      "cell_type": "markdown",
      "metadata": {
        "id": "PCH3ubHATDwK"
      },
      "source": [
        "#**통합**"
      ]
    },
    {
      "cell_type": "code",
      "metadata": {
        "id": "YPd3ucnYdarD"
      },
      "source": [
        "#데이터프레임으로 변경\n",
        "recipeData = pd.read_csv('Recipick_RecipeData.csv',encoding='cp949')\n",
        "userData = pd.read_csv('userData.csv',encoding='utf-8-sig')\n",
        "recipeOrderData1 = pd.read_csv('RecipeOrder01.csv',encoding='utf-8-sig')\n",
        "recipeOrderData2 = pd.read_csv('recipeOrder02.csv',encoding='utf-8-sig')"
      ],
      "execution_count": 2,
      "outputs": []
    },
    {
      "cell_type": "markdown",
      "metadata": {
        "id": "h1Lr8137iaSO"
      },
      "source": [
        "#레시피 데이터 수정"
      ]
    },
    {
      "cell_type": "code",
      "metadata": {
        "id": "5-muvPpdfYfC"
      },
      "source": [
        "#필요없는 컬럼 제거\n",
        "recipeData = recipeData.drop(['Unnamed: 0'],axis= 1)"
      ],
      "execution_count": 3,
      "outputs": []
    },
    {
      "cell_type": "code",
      "metadata": {
        "id": "P3PazAQsiWpZ"
      },
      "source": [
        "#중복제거\n",
        "recipeData = recipeData.drop_duplicates(['recipe_title','menu_img'],keep= 'first')"
      ],
      "execution_count": 4,
      "outputs": []
    },
    {
      "cell_type": "code",
      "metadata": {
        "id": "MRg-r3X5ilWU"
      },
      "source": [
        "#인덱스 초기화\n",
        "recipeData = recipeData.reset_index()\n",
        "recipeData = recipeData.drop(['index'],axis = 1)"
      ],
      "execution_count": 5,
      "outputs": []
    },
    {
      "cell_type": "code",
      "metadata": {
        "id": "AOSeNhhPjI8N"
      },
      "source": [
        "#recipe_source만 공란 존재\n",
        "recipeData = recipeData[recipeData['recipe_source'].isnull() == False]"
      ],
      "execution_count": 6,
      "outputs": []
    },
    {
      "cell_type": "code",
      "metadata": {
        "id": "bST4RtOFjRXc"
      },
      "source": [
        "#cp949로 저장 (레시피 오더의 rId확인하고)\n",
        "recipeData.to_csv('RecipeData.csv',encoding = 'cp949')"
      ],
      "execution_count": 44,
      "outputs": []
    },
    {
      "cell_type": "markdown",
      "metadata": {
        "id": "9FKLoCeolmCR"
      },
      "source": [
        "#레시피 순서 수정"
      ]
    },
    {
      "cell_type": "code",
      "metadata": {
        "id": "rYnxhRCvlnn4"
      },
      "source": [
        "recipeOrderData1 = recipeOrderData1.drop(['Unnamed: 0'],axis = 1)\n",
        "recipeOrderData2 = recipeOrderData2.drop(['Unnamed: 0'],axis = 1)"
      ],
      "execution_count": 7,
      "outputs": []
    },
    {
      "cell_type": "code",
      "metadata": {
        "id": "vMpqIQAtmMQ4"
      },
      "source": [
        "hasList = recipeData['rId'].to_list()\n",
        "#두개로 나눠서 하자. 런타임 오류뜬다.\n",
        "len(hasList)\n",
        "halfList1 = hasList[:17000]\n",
        "halfList2 = hasList[17000:34000]\n",
        "halfList3 = hasList[34000:]"
      ],
      "execution_count": 8,
      "outputs": []
    },
    {
      "cell_type": "code",
      "metadata": {
        "colab": {
          "base_uri": "https://localhost:8080/"
        },
        "id": "EfAx0RWFowIS",
        "outputId": "619eda37-5b53-4400-9cdb-56e0ee10f0cf"
      },
      "source": [
        "#레시피 데이터에 없는 레시피 순서 제거해버리자. 첫 번째 레시피 목록\n",
        "#이건 깨진 레시피 목록 : 860,1845,2470,2588,2671,2693,2725,2791\n",
        "#halfList1\n",
        "count = 0\n",
        "recipeOrder01 = pd.DataFrame(columns=recipeOrderData1.columns)\n",
        "for rid in halfList1:\n",
        "  count += 1\n",
        "  if count % 10000 == 0 : print(count)\n",
        "  recipeOrder01 = recipeOrder01.append(recipeOrderData1[recipeOrderData1['rId'] == rid])\n"
      ],
      "execution_count": 9,
      "outputs": [
        {
          "output_type": "stream",
          "name": "stdout",
          "text": [
            "10000\n"
          ]
        }
      ]
    },
    {
      "cell_type": "code",
      "metadata": {
        "colab": {
          "base_uri": "https://localhost:8080/"
        },
        "id": "RBoIHOC522JW",
        "outputId": "543cfd00-d0df-410c-f44f-e02f0cb4ba0f"
      },
      "source": [
        "#halfList2\n",
        "count = 0\n",
        "recipeOrder02 = pd.DataFrame(columns=recipeOrderData1.columns)\n",
        "for rid in halfList2:\n",
        "  count += 1\n",
        "  if count % 10000 == 0 : print(count)\n",
        "  recipeOrder02 = recipeOrder02.append(recipeOrderData1[recipeOrderData1['rId'] == rid])"
      ],
      "execution_count": 10,
      "outputs": [
        {
          "output_type": "stream",
          "name": "stdout",
          "text": [
            "10000\n"
          ]
        }
      ]
    },
    {
      "cell_type": "code",
      "metadata": {
        "colab": {
          "base_uri": "https://localhost:8080/"
        },
        "id": "MdNUK9N0-TG3",
        "outputId": "2de75ea5-bb9c-4ca6-ca98-3d4e4aebb961"
      },
      "source": [
        "#halfList3\n",
        "count = 0\n",
        "recipeOrder03 = pd.DataFrame(columns=recipeOrderData1.columns)\n",
        "for rid in halfList3:\n",
        "  count += 1\n",
        "  if count % 1000 == 0 : print(count)\n",
        "  recipeOrder03 = recipeOrder03.append(recipeOrderData1[recipeOrderData1['rId'] == rid])"
      ],
      "execution_count": 11,
      "outputs": [
        {
          "output_type": "stream",
          "name": "stdout",
          "text": [
            "1000\n",
            "2000\n",
            "3000\n",
            "4000\n",
            "5000\n",
            "6000\n",
            "7000\n",
            "8000\n",
            "9000\n",
            "10000\n",
            "11000\n",
            "12000\n",
            "13000\n",
            "14000\n",
            "15000\n",
            "16000\n",
            "17000\n"
          ]
        }
      ]
    },
    {
      "cell_type": "code",
      "metadata": {
        "id": "gFDOuz878y_D"
      },
      "source": [
        "recipeOrder01 = recipeOrder01.append(recipeOrder02)"
      ],
      "execution_count": 14,
      "outputs": []
    },
    {
      "cell_type": "code",
      "metadata": {
        "id": "HtdNIsd9D4IA"
      },
      "source": [
        "recipeOrder01 = recipeOrder01.append(recipeOrder03)"
      ],
      "execution_count": null,
      "outputs": []
    },
    {
      "cell_type": "code",
      "metadata": {
        "id": "ahQMN2XOGUgg"
      },
      "source": [
        "recipeOrder01"
      ],
      "execution_count": null,
      "outputs": []
    },
    {
      "cell_type": "code",
      "metadata": {
        "id": "HJMxhz_h3ecN"
      },
      "source": [
        "#레시피 데이터에 없는 레시피 순서 제거해버리자. 두 번째 레시피 목록\n",
        "#이건 깨진 레시피 목록 : 860,1845,2470,2588,2671,2693,2725,2791...\n",
        "#halfList1\n",
        "count = 0\n",
        "recipeOrder04 = pd.DataFrame(columns=recipeOrderData1.columns)\n",
        "for rid in halfList1:\n",
        "  count += 1\n",
        "  if count % 1000 == 0 : print(count)\n",
        "  recipeOrder04 = recipeOrder04.append(recipeOrderData2[recipeOrderData2['rId'] == rid])\n"
      ],
      "execution_count": null,
      "outputs": []
    },
    {
      "cell_type": "code",
      "metadata": {
        "id": "u82hyy-J3lAp"
      },
      "source": [
        "#halfList2\n",
        "count = 0\n",
        "recipeOrder05 = pd.DataFrame(columns=recipeOrderData1.columns)\n",
        "for rid in halfList2:\n",
        "  count += 1\n",
        "  if count % 1000 == 0 : print(count)\n",
        "  recipeOrder05 = recipeOrder05.append(recipeOrderData2[recipeOrderData2['rId'] == rid])"
      ],
      "execution_count": null,
      "outputs": []
    },
    {
      "cell_type": "code",
      "metadata": {
        "id": "JyAlbo7E-eWl"
      },
      "source": [
        "#halfList3\n",
        "count = 0\n",
        "recipeOrder06 = pd.DataFrame(columns=recipeOrderData1.columns)\n",
        "for rid in halfList3:\n",
        "  count += 1\n",
        "  if count % 1000 == 0 : print(count)\n",
        "  recipeOrder06 = recipeOrder06.append(recipeOrderData2[recipeOrderData2['rId'] == rid])"
      ],
      "execution_count": null,
      "outputs": []
    },
    {
      "cell_type": "code",
      "metadata": {
        "id": "A6ch64FE7srZ"
      },
      "source": [
        "recipeOrder01 = recipeOrder01.append(recipeOrder04)\n",
        "recipeOrder01 = recipeOrder01.append(recipeOrder05)\n",
        "recipeOrder01 = recipeOrder01.append(recipeOrder06)"
      ],
      "execution_count": 20,
      "outputs": []
    },
    {
      "cell_type": "code",
      "metadata": {
        "id": "Cnew90UMHUPm"
      },
      "source": [
        "recipeOrder01 = recipeOrder01.reset_index()\n",
        "recipeOrder01 = recipeOrder01.drop(['index'],axis = 1)"
      ],
      "execution_count": 25,
      "outputs": []
    },
    {
      "cell_type": "code",
      "metadata": {
        "colab": {
          "base_uri": "https://localhost:8080/",
          "height": 419
        },
        "id": "rqvnu30EH4sY",
        "outputId": "755cead9-277e-4637-d2c4-f76ed85e372f"
      },
      "source": [
        "recipeOrder01.head(115)"
      ],
      "execution_count": 29,
      "outputs": [
        {
          "output_type": "execute_result",
          "data": {
            "text/html": [
              "<div>\n",
              "<style scoped>\n",
              "    .dataframe tbody tr th:only-of-type {\n",
              "        vertical-align: middle;\n",
              "    }\n",
              "\n",
              "    .dataframe tbody tr th {\n",
              "        vertical-align: top;\n",
              "    }\n",
              "\n",
              "    .dataframe thead th {\n",
              "        text-align: right;\n",
              "    }\n",
              "</style>\n",
              "<table border=\"1\" class=\"dataframe\">\n",
              "  <thead>\n",
              "    <tr style=\"text-align: right;\">\n",
              "      <th></th>\n",
              "      <th>recipe_order</th>\n",
              "      <th>rId</th>\n",
              "      <th>description</th>\n",
              "    </tr>\n",
              "  </thead>\n",
              "  <tbody>\n",
              "    <tr>\n",
              "      <th>0</th>\n",
              "      <td>1</td>\n",
              "      <td>1</td>\n",
              "      <td>재료의 양은 입맛에 맞게 취향껏 준비해주세요.</td>\n",
              "    </tr>\n",
              "    <tr>\n",
              "      <th>1</th>\n",
              "      <td>2</td>\n",
              "      <td>1</td>\n",
              "      <td>먼저 묵은지를 가위를 사용해서 잘게 썰어주세요.만약 신김치가 없으면 덜익은 김치에 ...</td>\n",
              "    </tr>\n",
              "    <tr>\n",
              "      <th>2</th>\n",
              "      <td>3</td>\n",
              "      <td>1</td>\n",
              "      <td>대파도 송송 썰어 주세요.대파도마, 칼</td>\n",
              "    </tr>\n",
              "    <tr>\n",
              "      <th>3</th>\n",
              "      <td>4</td>\n",
              "      <td>1</td>\n",
              "      <td>후라이팬에 식용유를 듬뿍 넣은 뒤충분히 달군 다음참치를 넣고 볶아주세요.식용유, 참...</td>\n",
              "    </tr>\n",
              "    <tr>\n",
              "      <th>4</th>\n",
              "      <td>5</td>\n",
              "      <td>1</td>\n",
              "      <td>참치의 비린 맛을 잡기 위해간 마늘 1T를 넣고 볶아주세요.간마늘1T어른수저, 볶음...</td>\n",
              "    </tr>\n",
              "    <tr>\n",
              "      <th>...</th>\n",
              "      <td>...</td>\n",
              "      <td>...</td>\n",
              "      <td>...</td>\n",
              "    </tr>\n",
              "    <tr>\n",
              "      <th>110</th>\n",
              "      <td>2</td>\n",
              "      <td>14</td>\n",
              "      <td>대파도 먹기좋은 크기로 잘게 썰어 준비해주세요.</td>\n",
              "    </tr>\n",
              "    <tr>\n",
              "      <th>111</th>\n",
              "      <td>3</td>\n",
              "      <td>14</td>\n",
              "      <td>달군 팬에 식용유 두르고 대파부터 볶아주고요.</td>\n",
              "    </tr>\n",
              "    <tr>\n",
              "      <th>112</th>\n",
              "      <td>4</td>\n",
              "      <td>14</td>\n",
              "      <td>불 맛을 위해 간장 한 큰 술 투하!!</td>\n",
              "    </tr>\n",
              "    <tr>\n",
              "      <th>113</th>\n",
              "      <td>5</td>\n",
              "      <td>14</td>\n",
              "      <td>김치 넣고 볶다가 기름기 뺀 참치 넣고 볶아주고</td>\n",
              "    </tr>\n",
              "    <tr>\n",
              "      <th>114</th>\n",
              "      <td>6</td>\n",
              "      <td>14</td>\n",
              "      <td>밥 투하! 잽싸게 볶아주고 참기름 몇 방울 또르르르~ 떨어뜨려서 완성합니다.</td>\n",
              "    </tr>\n",
              "  </tbody>\n",
              "</table>\n",
              "<p>115 rows × 3 columns</p>\n",
              "</div>"
            ],
            "text/plain": [
              "    recipe_order rId                                        description\n",
              "0              1   1                          재료의 양은 입맛에 맞게 취향껏 준비해주세요.\n",
              "1              2   1  먼저 묵은지를 가위를 사용해서 잘게 썰어주세요.만약 신김치가 없으면 덜익은 김치에 ...\n",
              "2              3   1                              대파도 송송 썰어 주세요.대파도마, 칼\n",
              "3              4   1  후라이팬에 식용유를 듬뿍 넣은 뒤충분히 달군 다음참치를 넣고 볶아주세요.식용유, 참...\n",
              "4              5   1  참치의 비린 맛을 잡기 위해간 마늘 1T를 넣고 볶아주세요.간마늘1T어른수저, 볶음...\n",
              "..           ...  ..                                                ...\n",
              "110            2  14                         대파도 먹기좋은 크기로 잘게 썰어 준비해주세요.\n",
              "111            3  14                         달군 팬에 식용유 두르고 대파부터 볶아주고요. \n",
              "112            4  14                             불 맛을 위해 간장 한 큰 술 투하!! \n",
              "113            5  14                         김치 넣고 볶다가 기름기 뺀 참치 넣고 볶아주고\n",
              "114            6  14         밥 투하! 잽싸게 볶아주고 참기름 몇 방울 또르르르~ 떨어뜨려서 완성합니다.\n",
              "\n",
              "[115 rows x 3 columns]"
            ]
          },
          "metadata": {},
          "execution_count": 29
        }
      ]
    },
    {
      "cell_type": "code",
      "metadata": {
        "id": "SqBOzp4x7wp2"
      },
      "source": [
        "recipeOrder01.to_csv('RecipeOrder.csv',encoding= 'utf-8')"
      ],
      "execution_count": 30,
      "outputs": []
    },
    {
      "cell_type": "markdown",
      "metadata": {
        "id": "0F2Qh9FT75vQ"
      },
      "source": [
        "#유저데이터 수정"
      ]
    },
    {
      "cell_type": "code",
      "metadata": {
        "id": "9XzK6LI678ko"
      },
      "source": [
        "userData = userData.drop(['Unnamed: 0'],axis = 1)"
      ],
      "execution_count": 32,
      "outputs": []
    },
    {
      "cell_type": "code",
      "metadata": {
        "id": "IWeSDk4NI8Ei"
      },
      "source": [
        "userData = userData.drop_duplicates(['userId','rId'])"
      ],
      "execution_count": 35,
      "outputs": []
    },
    {
      "cell_type": "code",
      "metadata": {
        "id": "SP5qeIG_Kc4F"
      },
      "source": [
        "userData = userData.drop(['(맑음:1, 구름조금:2, 구름많음:3,구름많음,흐림,비:4,눈:5)'],axis=1)"
      ],
      "execution_count": 48,
      "outputs": []
    },
    {
      "cell_type": "code",
      "metadata": {
        "colab": {
          "base_uri": "https://localhost:8080/",
          "height": 419
        },
        "id": "6vXzR6DKLl4P",
        "outputId": "daf04b28-3c01-4ccc-f71c-21d9d3f7a79f"
      },
      "source": [
        "userData"
      ],
      "execution_count": 49,
      "outputs": [
        {
          "output_type": "execute_result",
          "data": {
            "text/html": [
              "<div>\n",
              "<style scoped>\n",
              "    .dataframe tbody tr th:only-of-type {\n",
              "        vertical-align: middle;\n",
              "    }\n",
              "\n",
              "    .dataframe tbody tr th {\n",
              "        vertical-align: top;\n",
              "    }\n",
              "\n",
              "    .dataframe thead th {\n",
              "        text-align: right;\n",
              "    }\n",
              "</style>\n",
              "<table border=\"1\" class=\"dataframe\">\n",
              "  <thead>\n",
              "    <tr style=\"text-align: right;\">\n",
              "      <th></th>\n",
              "      <th>nick</th>\n",
              "      <th>created_day</th>\n",
              "      <th>rId</th>\n",
              "      <th>grade</th>\n",
              "      <th>userId</th>\n",
              "      <th>weather</th>\n",
              "    </tr>\n",
              "  </thead>\n",
              "  <tbody>\n",
              "    <tr>\n",
              "      <th>0</th>\n",
              "      <td>^^</td>\n",
              "      <td>2015.4.18 10:05</td>\n",
              "      <td>126908</td>\n",
              "      <td>3</td>\n",
              "      <td>4766</td>\n",
              "      <td>4</td>\n",
              "    </tr>\n",
              "    <tr>\n",
              "      <th>1</th>\n",
              "      <td>j♥y</td>\n",
              "      <td>2015.4.19 19:42</td>\n",
              "      <td>157516</td>\n",
              "      <td>5</td>\n",
              "      <td>8143</td>\n",
              "      <td>4</td>\n",
              "    </tr>\n",
              "    <tr>\n",
              "      <th>2</th>\n",
              "      <td>j♥y</td>\n",
              "      <td>2015.4.19 19:42</td>\n",
              "      <td>167797</td>\n",
              "      <td>5</td>\n",
              "      <td>8143</td>\n",
              "      <td>4</td>\n",
              "    </tr>\n",
              "    <tr>\n",
              "      <th>3</th>\n",
              "      <td>딸기타르트♥</td>\n",
              "      <td>2015.4.20 20:43</td>\n",
              "      <td>158208</td>\n",
              "      <td>5</td>\n",
              "      <td>22052</td>\n",
              "      <td>4</td>\n",
              "    </tr>\n",
              "    <tr>\n",
              "      <th>4</th>\n",
              "      <td>딸기타르트♥</td>\n",
              "      <td>2015.4.20 20:43</td>\n",
              "      <td>113313</td>\n",
              "      <td>5</td>\n",
              "      <td>22052</td>\n",
              "      <td>4</td>\n",
              "    </tr>\n",
              "    <tr>\n",
              "      <th>...</th>\n",
              "      <td>...</td>\n",
              "      <td>...</td>\n",
              "      <td>...</td>\n",
              "      <td>...</td>\n",
              "      <td>...</td>\n",
              "      <td>...</td>\n",
              "    </tr>\n",
              "    <tr>\n",
              "      <th>373889</th>\n",
              "      <td>림S</td>\n",
              "      <td>2021.10.11 9:29</td>\n",
              "      <td>142317</td>\n",
              "      <td>5</td>\n",
              "      <td>23987</td>\n",
              "      <td>4</td>\n",
              "    </tr>\n",
              "    <tr>\n",
              "      <th>373890</th>\n",
              "      <td>콩콩이맘이수</td>\n",
              "      <td>2021.10.11 10:15</td>\n",
              "      <td>142226</td>\n",
              "      <td>5</td>\n",
              "      <td>49208</td>\n",
              "      <td>4</td>\n",
              "    </tr>\n",
              "    <tr>\n",
              "      <th>373891</th>\n",
              "      <td>요리좋아하는상미</td>\n",
              "      <td>2021.10.11 11:11</td>\n",
              "      <td>131966</td>\n",
              "      <td>5</td>\n",
              "      <td>39215</td>\n",
              "      <td>4</td>\n",
              "    </tr>\n",
              "    <tr>\n",
              "      <th>373892</th>\n",
              "      <td>화원유니맘</td>\n",
              "      <td>2021.10.11 13:33</td>\n",
              "      <td>142592</td>\n",
              "      <td>5</td>\n",
              "      <td>53598</td>\n",
              "      <td>4</td>\n",
              "    </tr>\n",
              "    <tr>\n",
              "      <th>373893</th>\n",
              "      <td>김허니</td>\n",
              "      <td>2021.10.11 14:11</td>\n",
              "      <td>153540</td>\n",
              "      <td>5</td>\n",
              "      <td>17164</td>\n",
              "      <td>4</td>\n",
              "    </tr>\n",
              "  </tbody>\n",
              "</table>\n",
              "<p>373861 rows × 6 columns</p>\n",
              "</div>"
            ],
            "text/plain": [
              "             nick       created_day     rId  grade  userId  weather\n",
              "0             ^^    2015.4.18 10:05  126908      3    4766        4\n",
              "1            j♥y    2015.4.19 19:42  157516      5    8143        4\n",
              "2            j♥y    2015.4.19 19:42  167797      5    8143        4\n",
              "3         딸기타르트♥    2015.4.20 20:43  158208      5   22052        4\n",
              "4         딸기타르트♥    2015.4.20 20:43  113313      5   22052        4\n",
              "...           ...               ...     ...    ...     ...      ...\n",
              "373889        림S    2021.10.11 9:29  142317      5   23987        4\n",
              "373890    콩콩이맘이수   2021.10.11 10:15  142226      5   49208        4\n",
              "373891  요리좋아하는상미   2021.10.11 11:11  131966      5   39215        4\n",
              "373892     화원유니맘   2021.10.11 13:33  142592      5   53598        4\n",
              "373893       김허니   2021.10.11 14:11  153540      5   17164        4\n",
              "\n",
              "[373861 rows x 6 columns]"
            ]
          },
          "metadata": {},
          "execution_count": 49
        }
      ]
    },
    {
      "cell_type": "code",
      "metadata": {
        "id": "CYZYJJ9uLt3H"
      },
      "source": [
        "userData.to_csv('UserData.csv',encoding='cp949')"
      ],
      "execution_count": 50,
      "outputs": []
    }
  ]
}